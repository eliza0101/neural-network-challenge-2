{
  "cells": [
    {
      "cell_type": "markdown",
      "metadata": {
        "id": "alIIEHibGc3M"
      },
      "source": [
        "## Part 1: Preprocessing"
      ]
    },
    {
      "cell_type": "code",
      "execution_count": 1,
      "metadata": {
        "colab": {
          "base_uri": "https://localhost:8080/",
          "height": 325
        },
        "id": "6eDUJ4NtGc3P",
        "outputId": "2480098c-135c-4cbf-9552-018494ee8ff5"
      },
      "outputs": [
        {
          "data": {
            "text/html": [
              "<div>\n",
              "<style scoped>\n",
              "    .dataframe tbody tr th:only-of-type {\n",
              "        vertical-align: middle;\n",
              "    }\n",
              "\n",
              "    .dataframe tbody tr th {\n",
              "        vertical-align: top;\n",
              "    }\n",
              "\n",
              "    .dataframe thead th {\n",
              "        text-align: right;\n",
              "    }\n",
              "</style>\n",
              "<table border=\"1\" class=\"dataframe\">\n",
              "  <thead>\n",
              "    <tr style=\"text-align: right;\">\n",
              "      <th></th>\n",
              "      <th>Age</th>\n",
              "      <th>Attrition</th>\n",
              "      <th>BusinessTravel</th>\n",
              "      <th>Department</th>\n",
              "      <th>DistanceFromHome</th>\n",
              "      <th>Education</th>\n",
              "      <th>EducationField</th>\n",
              "      <th>EnvironmentSatisfaction</th>\n",
              "      <th>HourlyRate</th>\n",
              "      <th>JobInvolvement</th>\n",
              "      <th>...</th>\n",
              "      <th>PerformanceRating</th>\n",
              "      <th>RelationshipSatisfaction</th>\n",
              "      <th>StockOptionLevel</th>\n",
              "      <th>TotalWorkingYears</th>\n",
              "      <th>TrainingTimesLastYear</th>\n",
              "      <th>WorkLifeBalance</th>\n",
              "      <th>YearsAtCompany</th>\n",
              "      <th>YearsInCurrentRole</th>\n",
              "      <th>YearsSinceLastPromotion</th>\n",
              "      <th>YearsWithCurrManager</th>\n",
              "    </tr>\n",
              "  </thead>\n",
              "  <tbody>\n",
              "    <tr>\n",
              "      <th>0</th>\n",
              "      <td>41</td>\n",
              "      <td>Yes</td>\n",
              "      <td>Travel_Rarely</td>\n",
              "      <td>Sales</td>\n",
              "      <td>1</td>\n",
              "      <td>2</td>\n",
              "      <td>Life Sciences</td>\n",
              "      <td>2</td>\n",
              "      <td>94</td>\n",
              "      <td>3</td>\n",
              "      <td>...</td>\n",
              "      <td>3</td>\n",
              "      <td>1</td>\n",
              "      <td>0</td>\n",
              "      <td>8</td>\n",
              "      <td>0</td>\n",
              "      <td>1</td>\n",
              "      <td>6</td>\n",
              "      <td>4</td>\n",
              "      <td>0</td>\n",
              "      <td>5</td>\n",
              "    </tr>\n",
              "    <tr>\n",
              "      <th>1</th>\n",
              "      <td>49</td>\n",
              "      <td>No</td>\n",
              "      <td>Travel_Frequently</td>\n",
              "      <td>Research &amp; Development</td>\n",
              "      <td>8</td>\n",
              "      <td>1</td>\n",
              "      <td>Life Sciences</td>\n",
              "      <td>3</td>\n",
              "      <td>61</td>\n",
              "      <td>2</td>\n",
              "      <td>...</td>\n",
              "      <td>4</td>\n",
              "      <td>4</td>\n",
              "      <td>1</td>\n",
              "      <td>10</td>\n",
              "      <td>3</td>\n",
              "      <td>3</td>\n",
              "      <td>10</td>\n",
              "      <td>7</td>\n",
              "      <td>1</td>\n",
              "      <td>7</td>\n",
              "    </tr>\n",
              "    <tr>\n",
              "      <th>2</th>\n",
              "      <td>37</td>\n",
              "      <td>Yes</td>\n",
              "      <td>Travel_Rarely</td>\n",
              "      <td>Research &amp; Development</td>\n",
              "      <td>2</td>\n",
              "      <td>2</td>\n",
              "      <td>Other</td>\n",
              "      <td>4</td>\n",
              "      <td>92</td>\n",
              "      <td>2</td>\n",
              "      <td>...</td>\n",
              "      <td>3</td>\n",
              "      <td>2</td>\n",
              "      <td>0</td>\n",
              "      <td>7</td>\n",
              "      <td>3</td>\n",
              "      <td>3</td>\n",
              "      <td>0</td>\n",
              "      <td>0</td>\n",
              "      <td>0</td>\n",
              "      <td>0</td>\n",
              "    </tr>\n",
              "    <tr>\n",
              "      <th>3</th>\n",
              "      <td>33</td>\n",
              "      <td>No</td>\n",
              "      <td>Travel_Frequently</td>\n",
              "      <td>Research &amp; Development</td>\n",
              "      <td>3</td>\n",
              "      <td>4</td>\n",
              "      <td>Life Sciences</td>\n",
              "      <td>4</td>\n",
              "      <td>56</td>\n",
              "      <td>3</td>\n",
              "      <td>...</td>\n",
              "      <td>3</td>\n",
              "      <td>3</td>\n",
              "      <td>0</td>\n",
              "      <td>8</td>\n",
              "      <td>3</td>\n",
              "      <td>3</td>\n",
              "      <td>8</td>\n",
              "      <td>7</td>\n",
              "      <td>3</td>\n",
              "      <td>0</td>\n",
              "    </tr>\n",
              "    <tr>\n",
              "      <th>4</th>\n",
              "      <td>27</td>\n",
              "      <td>No</td>\n",
              "      <td>Travel_Rarely</td>\n",
              "      <td>Research &amp; Development</td>\n",
              "      <td>2</td>\n",
              "      <td>1</td>\n",
              "      <td>Medical</td>\n",
              "      <td>1</td>\n",
              "      <td>40</td>\n",
              "      <td>3</td>\n",
              "      <td>...</td>\n",
              "      <td>3</td>\n",
              "      <td>4</td>\n",
              "      <td>1</td>\n",
              "      <td>6</td>\n",
              "      <td>3</td>\n",
              "      <td>3</td>\n",
              "      <td>2</td>\n",
              "      <td>2</td>\n",
              "      <td>2</td>\n",
              "      <td>2</td>\n",
              "    </tr>\n",
              "  </tbody>\n",
              "</table>\n",
              "<p>5 rows × 27 columns</p>\n",
              "</div>"
            ],
            "text/plain": [
              "   Age Attrition     BusinessTravel              Department  DistanceFromHome  \\\n",
              "0   41       Yes      Travel_Rarely                   Sales                 1   \n",
              "1   49        No  Travel_Frequently  Research & Development                 8   \n",
              "2   37       Yes      Travel_Rarely  Research & Development                 2   \n",
              "3   33        No  Travel_Frequently  Research & Development                 3   \n",
              "4   27        No      Travel_Rarely  Research & Development                 2   \n",
              "\n",
              "   Education EducationField  EnvironmentSatisfaction  HourlyRate  \\\n",
              "0          2  Life Sciences                        2          94   \n",
              "1          1  Life Sciences                        3          61   \n",
              "2          2          Other                        4          92   \n",
              "3          4  Life Sciences                        4          56   \n",
              "4          1        Medical                        1          40   \n",
              "\n",
              "   JobInvolvement  ...  PerformanceRating RelationshipSatisfaction  \\\n",
              "0               3  ...                  3                        1   \n",
              "1               2  ...                  4                        4   \n",
              "2               2  ...                  3                        2   \n",
              "3               3  ...                  3                        3   \n",
              "4               3  ...                  3                        4   \n",
              "\n",
              "   StockOptionLevel TotalWorkingYears  TrainingTimesLastYear WorkLifeBalance  \\\n",
              "0                 0                 8                      0               1   \n",
              "1                 1                10                      3               3   \n",
              "2                 0                 7                      3               3   \n",
              "3                 0                 8                      3               3   \n",
              "4                 1                 6                      3               3   \n",
              "\n",
              "   YearsAtCompany  YearsInCurrentRole  YearsSinceLastPromotion  \\\n",
              "0               6                   4                        0   \n",
              "1              10                   7                        1   \n",
              "2               0                   0                        0   \n",
              "3               8                   7                        3   \n",
              "4               2                   2                        2   \n",
              "\n",
              "   YearsWithCurrManager  \n",
              "0                     5  \n",
              "1                     7  \n",
              "2                     0  \n",
              "3                     0  \n",
              "4                     2  \n",
              "\n",
              "[5 rows x 27 columns]"
            ]
          },
          "execution_count": 1,
          "metadata": {},
          "output_type": "execute_result"
        }
      ],
      "source": [
        "# Import our dependencies\n",
        "from sklearn.model_selection import train_test_split\n",
        "from sklearn.preprocessing import StandardScaler\n",
        "import pandas as pd\n",
        "import numpy as np\n",
        "from tensorflow.keras.models import Model\n",
        "from tensorflow.keras import layers\n",
        "\n",
        "#  Import and read the attrition data\n",
        "attrition_df = pd.read_csv('https://static.bc-edx.com/ai/ail-v-1-0/m19/lms/datasets/attrition.csv')\n",
        "attrition_df.head()"
      ]
    },
    {
      "cell_type": "code",
      "execution_count": 2,
      "metadata": {
        "colab": {
          "base_uri": "https://localhost:8080/"
        },
        "id": "g22aQSY4Gc3Q",
        "outputId": "1f5c13c1-b981-4e40-a7ed-dd3fe6f1b81e"
      },
      "outputs": [
        {
          "data": {
            "text/plain": [
              "Age                         43\n",
              "Attrition                    2\n",
              "BusinessTravel               3\n",
              "Department                   3\n",
              "DistanceFromHome            29\n",
              "Education                    5\n",
              "EducationField               6\n",
              "EnvironmentSatisfaction      4\n",
              "HourlyRate                  71\n",
              "JobInvolvement               4\n",
              "JobLevel                     5\n",
              "JobRole                      9\n",
              "JobSatisfaction              4\n",
              "MaritalStatus                3\n",
              "NumCompaniesWorked          10\n",
              "OverTime                     2\n",
              "PercentSalaryHike           15\n",
              "PerformanceRating            2\n",
              "RelationshipSatisfaction     4\n",
              "StockOptionLevel             4\n",
              "TotalWorkingYears           40\n",
              "TrainingTimesLastYear        7\n",
              "WorkLifeBalance              4\n",
              "YearsAtCompany              37\n",
              "YearsInCurrentRole          19\n",
              "YearsSinceLastPromotion     16\n",
              "YearsWithCurrManager        18\n",
              "dtype: int64"
            ]
          },
          "execution_count": 2,
          "metadata": {},
          "output_type": "execute_result"
        }
      ],
      "source": [
        "# Determine the number of unique values in each column.\n",
        "attrition_df.nunique()"
      ]
    },
    {
      "cell_type": "code",
      "execution_count": 3,
      "metadata": {
        "id": "50vMgBEnJbfM"
      },
      "outputs": [],
      "source": [
        "# Create y_df with the Attrition and Department columns\n",
        "y_df = attrition_df[['Attrition', 'Department']]\n"
      ]
    },
    {
      "cell_type": "code",
      "execution_count": 4,
      "metadata": {
        "colab": {
          "base_uri": "https://localhost:8080/"
        },
        "id": "Virka0zLGc3R",
        "outputId": "dd5aee3a-9458-4ba6-e857-1b234de40915"
      },
      "outputs": [
        {
          "name": "stdout",
          "output_type": "stream",
          "text": [
            "Age                         int64\n",
            "DistanceFromHome            int64\n",
            "Education                   int64\n",
            "EnvironmentSatisfaction     int64\n",
            "HourlyRate                  int64\n",
            "JobInvolvement              int64\n",
            "JobLevel                    int64\n",
            "JobSatisfaction             int64\n",
            "NumCompaniesWorked          int64\n",
            "PercentSalaryHike           int64\n",
            "OverTime                   object\n",
            "YearsAtCompany              int64\n",
            "TotalWorkingYears           int64\n",
            "YearsAtCompany              int64\n",
            "YearsInCurrentRole          int64\n",
            "YearsSinceLastPromotion     int64\n",
            "YearsWithCurrManager        int64\n",
            "dtype: object\n"
          ]
        }
      ],
      "source": [
        "# Create a list of at least 10 column names to use as X data\n",
        "X_columns = ['Age', 'DistanceFromHome', 'Education', 'EnvironmentSatisfaction', \n",
        "             'HourlyRate', 'JobInvolvement', 'JobLevel', 'JobSatisfaction', \n",
        "             'NumCompaniesWorked', 'PercentSalaryHike', 'OverTime', 'YearsAtCompany', \n",
        "             'TotalWorkingYears', 'YearsAtCompany', 'YearsInCurrentRole', 'YearsSinceLastPromotion', 'YearsWithCurrManager' ]\n",
        "\n",
        "\n",
        "# Create X_df using your selected columns\n",
        "X_df = attrition_df[X_columns]\n",
        "\n",
        "# Show the data types for X_df\n",
        "print(X_df.dtypes)\n"
      ]
    },
    {
      "cell_type": "code",
      "execution_count": 5,
      "metadata": {
        "id": "KaJfdOGUMHMR"
      },
      "outputs": [],
      "source": [
        "# Split the data into training and testing sets\n",
        "X_train, X_test, y_train, y_test = train_test_split(X_df, y_df, test_size=0.2, random_state=50)\n"
      ]
    },
    {
      "cell_type": "code",
      "execution_count": 6,
      "metadata": {},
      "outputs": [
        {
          "name": "stdout",
          "output_type": "stream",
          "text": [
            "['No' 'Yes']\n"
          ]
        }
      ],
      "source": [
        "# Check values for OverTime\n",
        "print(X_train[\"OverTime\"].unique())"
      ]
    },
    {
      "cell_type": "code",
      "execution_count": 7,
      "metadata": {
        "colab": {
          "base_uri": "https://localhost:8080/"
        },
        "id": "NYubUJqiLCSp",
        "outputId": "53f31721-571c-4c94-d13e-25a715749593"
      },
      "outputs": [
        {
          "data": {
            "text/plain": [
              "OverTime\n",
              "0    216\n",
              "1     78\n",
              "Name: count, dtype: int64"
            ]
          },
          "execution_count": 7,
          "metadata": {},
          "output_type": "execute_result"
        }
      ],
      "source": [
        "# Convert your X data to numeric data types however you see fit\n",
        "# Add new code cells as necessary\n",
        "X_train['OverTime'] = X_train['OverTime'].map({'Yes': 1, 'No': 0})\n",
        "X_test['OverTime'] = X_test['OverTime'].map({'Yes': 1, 'No': 0})\n",
        "\n",
        "#Check value counts\n",
        "X_train['OverTime'].value_counts()\n",
        "X_test['OverTime'].value_counts()\n",
        "\n"
      ]
    },
    {
      "cell_type": "code",
      "execution_count": 8,
      "metadata": {
        "id": "EWA-aIA5Gc3T"
      },
      "outputs": [],
      "source": [
        "# Create a StandardScaler\n",
        "scaler = StandardScaler()\n",
        "\n",
        "# Fit the StandardScaler to the training data\n",
        "X_train_scaled = scaler.fit_transform(X_train)\n",
        "\n",
        "# Scale the training and testing data\n",
        "X_test_scaled = scaler.transform(X_test)\n"
      ]
    },
    {
      "cell_type": "code",
      "execution_count": 9,
      "metadata": {
        "colab": {
          "base_uri": "https://localhost:8080/"
        },
        "id": "-z0Mky8vQSz4",
        "outputId": "debefc85-c20b-48f5-f4d9-91eadd65d36a"
      },
      "outputs": [],
      "source": [
        "# Create a OneHotEncoder for the Department column\n",
        "from sklearn.preprocessing import OneHotEncoder\n",
        "\n",
        "encoder_department = OneHotEncoder(sparse_output=False)\n",
        "\n",
        "# Fit the encoder to the training data\n",
        "# Create two new variables by applying the encoder\n",
        "# to the training and testing data\n",
        "y_train_department_encoded = encoder_department.fit_transform(y_train[['Department']])\n",
        "y_test_department_encoded = encoder_department.transform(y_test[['Department']])"
      ]
    },
    {
      "cell_type": "code",
      "execution_count": 10,
      "metadata": {
        "colab": {
          "base_uri": "https://localhost:8080/"
        },
        "id": "-G4DSpvFRrk4",
        "outputId": "9842e948-8a55-4b80-8fac-f96714e85589"
      },
      "outputs": [
        {
          "name": "stdout",
          "output_type": "stream",
          "text": [
            "Shape of y_train_department_encoded: (1176, 3)\n",
            "[[0. 1. 0.]\n",
            " [0. 0. 1.]\n",
            " [0. 1. 0.]\n",
            " ...\n",
            " [0. 0. 1.]\n",
            " [1. 0. 0.]\n",
            " [0. 1. 0.]]\n",
            "Shape of y_train_attrition_encoded: (1176, 2)\n",
            "[[1. 0.]\n",
            " [1. 0.]\n",
            " [1. 0.]\n",
            " ...\n",
            " [0. 1.]\n",
            " [0. 1.]\n",
            " [1. 0.]]\n"
          ]
        }
      ],
      "source": [
        "# Create a OneHotEncoder for the Attrition column\n",
        "encoder_attrition = OneHotEncoder(sparse_output=False)\n",
        "\n",
        "\n",
        "# Fit the encoder to the training data\n",
        "# Create two new variables by applying the encoder\n",
        "# to the training and testing data\n",
        "y_train_attrition_encoded = encoder_attrition.fit_transform(y_train[['Attrition']])\n",
        "y_test_attrition_encoded = encoder_attrition.transform(y_test[['Attrition']])\n",
        "\n",
        "# Print the shape of the encoded data to verify\n",
        "print(\"Shape of y_train_department_encoded:\", y_train_department_encoded.shape)\n",
        "print(np.array(y_train_department_encoded))\n",
        "\n",
        "print(\"Shape of y_train_attrition_encoded:\", y_train_attrition_encoded.shape)\n",
        "print(np.array(y_train_attrition_encoded))"
      ]
    },
    {
      "cell_type": "markdown",
      "metadata": {
        "id": "ykNmu_WWGc3T"
      },
      "source": [
        "## Create, Compile, and Train the Model"
      ]
    },
    {
      "cell_type": "code",
      "execution_count": 11,
      "metadata": {},
      "outputs": [],
      "source": [
        "from tensorflow.keras.layers import Input, Dense"
      ]
    },
    {
      "cell_type": "code",
      "execution_count": 12,
      "metadata": {
        "id": "WUptZqmSGc3T"
      },
      "outputs": [
        {
          "name": "stdout",
          "output_type": "stream",
          "text": [
            "Number of columns in X training data: 17\n"
          ]
        }
      ],
      "source": [
        "# Find the number of columns in the X training data\n",
        "num_col = X_train_scaled.shape[1]\n",
        "print(\"Number of columns in X training data:\", num_col)\n",
        "\n",
        "# Create the input layer\n",
        "input_layer = Input(shape=(num_col,))\n",
        "\n",
        "# Create at least two shared layers\n",
        "shared_layer1 = layers.Dense(64, activation='relu')(input_layer)\n",
        "shared_layer2 = layers.Dense(32, activation='relu')(shared_layer1)"
      ]
    },
    {
      "cell_type": "code",
      "execution_count": 13,
      "metadata": {
        "id": "JukjTm2yTEqd"
      },
      "outputs": [],
      "source": [
        "# Create a branch for Department\n",
        "# with a hidden layer and an output layer\n",
        "\n",
        "# Create the hidden layer\n",
        "department_hidden = Dense(16, activation='relu')(shared_layer2)\n",
        "\n",
        "# Create the output layer\n",
        "department_output = Dense(y_train_department_encoded.shape[1], \n",
        "                                 activation='softmax', name='department_output')(department_hidden)\n"
      ]
    },
    {
      "cell_type": "code",
      "execution_count": 14,
      "metadata": {
        "id": "9OqhUiOJUBkR"
      },
      "outputs": [],
      "source": [
        "# Create a branch for Attrition\n",
        "# with a hidden layer and an output layer\n",
        "\n",
        "# Create the hidden layer\n",
        "attrition_hidden = layers.Dense(16, activation='relu')(shared_layer2)\n",
        "\n",
        "# Create the output layer\n",
        "attrition_output = layers.Dense(y_train_attrition_encoded.shape[1], \n",
        "                                activation='sigmoid', name='attrition_output')(attrition_hidden)\n"
      ]
    },
    {
      "cell_type": "code",
      "execution_count": 15,
      "metadata": {
        "colab": {
          "base_uri": "https://localhost:8080/"
        },
        "id": "twmuejdxGc3T",
        "outputId": "25096308-b68b-42e4-e4ea-ae82e97c435a"
      },
      "outputs": [
        {
          "data": {
            "text/html": [
              "<pre style=\"white-space:pre;overflow-x:auto;line-height:normal;font-family:Menlo,'DejaVu Sans Mono',consolas,'Courier New',monospace\"><span style=\"font-weight: bold\">Model: \"functional\"</span>\n",
              "</pre>\n"
            ],
            "text/plain": [
              "\u001b[1mModel: \"functional\"\u001b[0m\n"
            ]
          },
          "metadata": {},
          "output_type": "display_data"
        },
        {
          "data": {
            "text/html": [
              "<pre style=\"white-space:pre;overflow-x:auto;line-height:normal;font-family:Menlo,'DejaVu Sans Mono',consolas,'Courier New',monospace\">┏━━━━━━━━━━━━━━━━━━━━━┳━━━━━━━━━━━━━━━━━━━┳━━━━━━━━━━━━┳━━━━━━━━━━━━━━━━━━━┓\n",
              "┃<span style=\"font-weight: bold\"> Layer (type)        </span>┃<span style=\"font-weight: bold\"> Output Shape      </span>┃<span style=\"font-weight: bold\">    Param # </span>┃<span style=\"font-weight: bold\"> Connected to      </span>┃\n",
              "┡━━━━━━━━━━━━━━━━━━━━━╇━━━━━━━━━━━━━━━━━━━╇━━━━━━━━━━━━╇━━━━━━━━━━━━━━━━━━━┩\n",
              "│ input_layer         │ (<span style=\"color: #00d7ff; text-decoration-color: #00d7ff\">None</span>, <span style=\"color: #00af00; text-decoration-color: #00af00\">17</span>)        │          <span style=\"color: #00af00; text-decoration-color: #00af00\">0</span> │ -                 │\n",
              "│ (<span style=\"color: #0087ff; text-decoration-color: #0087ff\">InputLayer</span>)        │                   │            │                   │\n",
              "├─────────────────────┼───────────────────┼────────────┼───────────────────┤\n",
              "│ dense (<span style=\"color: #0087ff; text-decoration-color: #0087ff\">Dense</span>)       │ (<span style=\"color: #00d7ff; text-decoration-color: #00d7ff\">None</span>, <span style=\"color: #00af00; text-decoration-color: #00af00\">64</span>)        │      <span style=\"color: #00af00; text-decoration-color: #00af00\">1,152</span> │ input_layer[<span style=\"color: #00af00; text-decoration-color: #00af00\">0</span>][<span style=\"color: #00af00; text-decoration-color: #00af00\">0</span>] │\n",
              "├─────────────────────┼───────────────────┼────────────┼───────────────────┤\n",
              "│ dense_1 (<span style=\"color: #0087ff; text-decoration-color: #0087ff\">Dense</span>)     │ (<span style=\"color: #00d7ff; text-decoration-color: #00d7ff\">None</span>, <span style=\"color: #00af00; text-decoration-color: #00af00\">32</span>)        │      <span style=\"color: #00af00; text-decoration-color: #00af00\">2,080</span> │ dense[<span style=\"color: #00af00; text-decoration-color: #00af00\">0</span>][<span style=\"color: #00af00; text-decoration-color: #00af00\">0</span>]       │\n",
              "├─────────────────────┼───────────────────┼────────────┼───────────────────┤\n",
              "│ dense_2 (<span style=\"color: #0087ff; text-decoration-color: #0087ff\">Dense</span>)     │ (<span style=\"color: #00d7ff; text-decoration-color: #00d7ff\">None</span>, <span style=\"color: #00af00; text-decoration-color: #00af00\">16</span>)        │        <span style=\"color: #00af00; text-decoration-color: #00af00\">528</span> │ dense_1[<span style=\"color: #00af00; text-decoration-color: #00af00\">0</span>][<span style=\"color: #00af00; text-decoration-color: #00af00\">0</span>]     │\n",
              "├─────────────────────┼───────────────────┼────────────┼───────────────────┤\n",
              "│ dense_3 (<span style=\"color: #0087ff; text-decoration-color: #0087ff\">Dense</span>)     │ (<span style=\"color: #00d7ff; text-decoration-color: #00d7ff\">None</span>, <span style=\"color: #00af00; text-decoration-color: #00af00\">16</span>)        │        <span style=\"color: #00af00; text-decoration-color: #00af00\">528</span> │ dense_1[<span style=\"color: #00af00; text-decoration-color: #00af00\">0</span>][<span style=\"color: #00af00; text-decoration-color: #00af00\">0</span>]     │\n",
              "├─────────────────────┼───────────────────┼────────────┼───────────────────┤\n",
              "│ department_output   │ (<span style=\"color: #00d7ff; text-decoration-color: #00d7ff\">None</span>, <span style=\"color: #00af00; text-decoration-color: #00af00\">3</span>)         │         <span style=\"color: #00af00; text-decoration-color: #00af00\">51</span> │ dense_2[<span style=\"color: #00af00; text-decoration-color: #00af00\">0</span>][<span style=\"color: #00af00; text-decoration-color: #00af00\">0</span>]     │\n",
              "│ (<span style=\"color: #0087ff; text-decoration-color: #0087ff\">Dense</span>)             │                   │            │                   │\n",
              "├─────────────────────┼───────────────────┼────────────┼───────────────────┤\n",
              "│ attrition_output    │ (<span style=\"color: #00d7ff; text-decoration-color: #00d7ff\">None</span>, <span style=\"color: #00af00; text-decoration-color: #00af00\">2</span>)         │         <span style=\"color: #00af00; text-decoration-color: #00af00\">34</span> │ dense_3[<span style=\"color: #00af00; text-decoration-color: #00af00\">0</span>][<span style=\"color: #00af00; text-decoration-color: #00af00\">0</span>]     │\n",
              "│ (<span style=\"color: #0087ff; text-decoration-color: #0087ff\">Dense</span>)             │                   │            │                   │\n",
              "└─────────────────────┴───────────────────┴────────────┴───────────────────┘\n",
              "</pre>\n"
            ],
            "text/plain": [
              "┏━━━━━━━━━━━━━━━━━━━━━┳━━━━━━━━━━━━━━━━━━━┳━━━━━━━━━━━━┳━━━━━━━━━━━━━━━━━━━┓\n",
              "┃\u001b[1m \u001b[0m\u001b[1mLayer (type)       \u001b[0m\u001b[1m \u001b[0m┃\u001b[1m \u001b[0m\u001b[1mOutput Shape     \u001b[0m\u001b[1m \u001b[0m┃\u001b[1m \u001b[0m\u001b[1m   Param #\u001b[0m\u001b[1m \u001b[0m┃\u001b[1m \u001b[0m\u001b[1mConnected to     \u001b[0m\u001b[1m \u001b[0m┃\n",
              "┡━━━━━━━━━━━━━━━━━━━━━╇━━━━━━━━━━━━━━━━━━━╇━━━━━━━━━━━━╇━━━━━━━━━━━━━━━━━━━┩\n",
              "│ input_layer         │ (\u001b[38;5;45mNone\u001b[0m, \u001b[38;5;34m17\u001b[0m)        │          \u001b[38;5;34m0\u001b[0m │ -                 │\n",
              "│ (\u001b[38;5;33mInputLayer\u001b[0m)        │                   │            │                   │\n",
              "├─────────────────────┼───────────────────┼────────────┼───────────────────┤\n",
              "│ dense (\u001b[38;5;33mDense\u001b[0m)       │ (\u001b[38;5;45mNone\u001b[0m, \u001b[38;5;34m64\u001b[0m)        │      \u001b[38;5;34m1,152\u001b[0m │ input_layer[\u001b[38;5;34m0\u001b[0m][\u001b[38;5;34m0\u001b[0m] │\n",
              "├─────────────────────┼───────────────────┼────────────┼───────────────────┤\n",
              "│ dense_1 (\u001b[38;5;33mDense\u001b[0m)     │ (\u001b[38;5;45mNone\u001b[0m, \u001b[38;5;34m32\u001b[0m)        │      \u001b[38;5;34m2,080\u001b[0m │ dense[\u001b[38;5;34m0\u001b[0m][\u001b[38;5;34m0\u001b[0m]       │\n",
              "├─────────────────────┼───────────────────┼────────────┼───────────────────┤\n",
              "│ dense_2 (\u001b[38;5;33mDense\u001b[0m)     │ (\u001b[38;5;45mNone\u001b[0m, \u001b[38;5;34m16\u001b[0m)        │        \u001b[38;5;34m528\u001b[0m │ dense_1[\u001b[38;5;34m0\u001b[0m][\u001b[38;5;34m0\u001b[0m]     │\n",
              "├─────────────────────┼───────────────────┼────────────┼───────────────────┤\n",
              "│ dense_3 (\u001b[38;5;33mDense\u001b[0m)     │ (\u001b[38;5;45mNone\u001b[0m, \u001b[38;5;34m16\u001b[0m)        │        \u001b[38;5;34m528\u001b[0m │ dense_1[\u001b[38;5;34m0\u001b[0m][\u001b[38;5;34m0\u001b[0m]     │\n",
              "├─────────────────────┼───────────────────┼────────────┼───────────────────┤\n",
              "│ department_output   │ (\u001b[38;5;45mNone\u001b[0m, \u001b[38;5;34m3\u001b[0m)         │         \u001b[38;5;34m51\u001b[0m │ dense_2[\u001b[38;5;34m0\u001b[0m][\u001b[38;5;34m0\u001b[0m]     │\n",
              "│ (\u001b[38;5;33mDense\u001b[0m)             │                   │            │                   │\n",
              "├─────────────────────┼───────────────────┼────────────┼───────────────────┤\n",
              "│ attrition_output    │ (\u001b[38;5;45mNone\u001b[0m, \u001b[38;5;34m2\u001b[0m)         │         \u001b[38;5;34m34\u001b[0m │ dense_3[\u001b[38;5;34m0\u001b[0m][\u001b[38;5;34m0\u001b[0m]     │\n",
              "│ (\u001b[38;5;33mDense\u001b[0m)             │                   │            │                   │\n",
              "└─────────────────────┴───────────────────┴────────────┴───────────────────┘\n"
            ]
          },
          "metadata": {},
          "output_type": "display_data"
        },
        {
          "data": {
            "text/html": [
              "<pre style=\"white-space:pre;overflow-x:auto;line-height:normal;font-family:Menlo,'DejaVu Sans Mono',consolas,'Courier New',monospace\"><span style=\"font-weight: bold\"> Total params: </span><span style=\"color: #00af00; text-decoration-color: #00af00\">4,373</span> (17.08 KB)\n",
              "</pre>\n"
            ],
            "text/plain": [
              "\u001b[1m Total params: \u001b[0m\u001b[38;5;34m4,373\u001b[0m (17.08 KB)\n"
            ]
          },
          "metadata": {},
          "output_type": "display_data"
        },
        {
          "data": {
            "text/html": [
              "<pre style=\"white-space:pre;overflow-x:auto;line-height:normal;font-family:Menlo,'DejaVu Sans Mono',consolas,'Courier New',monospace\"><span style=\"font-weight: bold\"> Trainable params: </span><span style=\"color: #00af00; text-decoration-color: #00af00\">4,373</span> (17.08 KB)\n",
              "</pre>\n"
            ],
            "text/plain": [
              "\u001b[1m Trainable params: \u001b[0m\u001b[38;5;34m4,373\u001b[0m (17.08 KB)\n"
            ]
          },
          "metadata": {},
          "output_type": "display_data"
        },
        {
          "data": {
            "text/html": [
              "<pre style=\"white-space:pre;overflow-x:auto;line-height:normal;font-family:Menlo,'DejaVu Sans Mono',consolas,'Courier New',monospace\"><span style=\"font-weight: bold\"> Non-trainable params: </span><span style=\"color: #00af00; text-decoration-color: #00af00\">0</span> (0.00 B)\n",
              "</pre>\n"
            ],
            "text/plain": [
              "\u001b[1m Non-trainable params: \u001b[0m\u001b[38;5;34m0\u001b[0m (0.00 B)\n"
            ]
          },
          "metadata": {},
          "output_type": "display_data"
        }
      ],
      "source": [
        "# Create the model\n",
        "model = Model(inputs=input_layer, outputs=[department_output, attrition_output])\n",
        "\n",
        "# Compile the model\n",
        "model.compile(optimizer='adam',\n",
        "              loss={'department_output': 'categorical_crossentropy',\n",
        "                    'attrition_output': 'binary_crossentropy'},\n",
        "              metrics={'department_output': 'accuracy',\n",
        "                       'attrition_output': 'accuracy'})\n",
        "\n",
        "# Summarize the model\n",
        "model.summary()"
      ]
    },
    {
      "cell_type": "code",
      "execution_count": 16,
      "metadata": {
        "colab": {
          "base_uri": "https://localhost:8080/"
        },
        "id": "c8oGy0dpGc3U",
        "outputId": "cc667d43-28cf-42d4-d719-c2bc02888d30"
      },
      "outputs": [
        {
          "name": "stdout",
          "output_type": "stream",
          "text": [
            "Epoch 1/100\n",
            "\u001b[1m30/30\u001b[0m \u001b[32m━━━━━━━━━━━━━━━━━━━━\u001b[0m\u001b[37m\u001b[0m \u001b[1m1s\u001b[0m 4ms/step - attrition_output_accuracy: 0.8215 - attrition_output_loss: 0.5417 - department_output_accuracy: 0.3988 - department_output_loss: 0.6528 - loss: 1.1949 - val_attrition_output_accuracy: 0.8432 - val_attrition_output_loss: 0.4193 - val_department_output_accuracy: 0.6271 - val_department_output_loss: 0.5533 - val_loss: 0.9690\n",
            "Epoch 2/100\n",
            "\u001b[1m30/30\u001b[0m \u001b[32m━━━━━━━━━━━━━━━━━━━━\u001b[0m\u001b[37m\u001b[0m \u001b[1m0s\u001b[0m 915us/step - attrition_output_accuracy: 0.8546 - attrition_output_loss: 0.3934 - department_output_accuracy: 0.6813 - department_output_loss: 0.5068 - loss: 0.8999 - val_attrition_output_accuracy: 0.8517 - val_attrition_output_loss: 0.3714 - val_department_output_accuracy: 0.6271 - val_department_output_loss: 0.5289 - val_loss: 0.9074\n",
            "Epoch 3/100\n",
            "\u001b[1m30/30\u001b[0m \u001b[32m━━━━━━━━━━━━━━━━━━━━\u001b[0m\u001b[37m\u001b[0m \u001b[1m0s\u001b[0m 903us/step - attrition_output_accuracy: 0.8465 - attrition_output_loss: 0.3739 - department_output_accuracy: 0.6844 - department_output_loss: 0.4778 - loss: 0.8520 - val_attrition_output_accuracy: 0.8644 - val_attrition_output_loss: 0.3501 - val_department_output_accuracy: 0.6271 - val_department_output_loss: 0.5187 - val_loss: 0.8779\n",
            "Epoch 4/100\n",
            "\u001b[1m30/30\u001b[0m \u001b[32m━━━━━━━━━━━━━━━━━━━━\u001b[0m\u001b[37m\u001b[0m \u001b[1m0s\u001b[0m 829us/step - attrition_output_accuracy: 0.8597 - attrition_output_loss: 0.3527 - department_output_accuracy: 0.6801 - department_output_loss: 0.4751 - loss: 0.8280 - val_attrition_output_accuracy: 0.8771 - val_attrition_output_loss: 0.3432 - val_department_output_accuracy: 0.6271 - val_department_output_loss: 0.5162 - val_loss: 0.8697\n",
            "Epoch 5/100\n",
            "\u001b[1m30/30\u001b[0m \u001b[32m━━━━━━━━━━━━━━━━━━━━\u001b[0m\u001b[37m\u001b[0m \u001b[1m0s\u001b[0m 806us/step - attrition_output_accuracy: 0.8529 - attrition_output_loss: 0.3626 - department_output_accuracy: 0.6550 - department_output_loss: 0.4820 - loss: 0.8446 - val_attrition_output_accuracy: 0.8771 - val_attrition_output_loss: 0.3418 - val_department_output_accuracy: 0.6271 - val_department_output_loss: 0.5141 - val_loss: 0.8673\n",
            "Epoch 6/100\n",
            "\u001b[1m30/30\u001b[0m \u001b[32m━━━━━━━━━━━━━━━━━━━━\u001b[0m\u001b[37m\u001b[0m \u001b[1m0s\u001b[0m 2ms/step - attrition_output_accuracy: 0.8731 - attrition_output_loss: 0.3128 - department_output_accuracy: 0.6551 - department_output_loss: 0.4767 - loss: 0.7893 - val_attrition_output_accuracy: 0.8602 - val_attrition_output_loss: 0.3453 - val_department_output_accuracy: 0.6271 - val_department_output_loss: 0.5136 - val_loss: 0.8699\n",
            "Epoch 7/100\n",
            "\u001b[1m30/30\u001b[0m \u001b[32m━━━━━━━━━━━━━━━━━━━━\u001b[0m\u001b[37m\u001b[0m \u001b[1m0s\u001b[0m 815us/step - attrition_output_accuracy: 0.8854 - attrition_output_loss: 0.2986 - department_output_accuracy: 0.6598 - department_output_loss: 0.4639 - loss: 0.7623 - val_attrition_output_accuracy: 0.8644 - val_attrition_output_loss: 0.3436 - val_department_output_accuracy: 0.6271 - val_department_output_loss: 0.5127 - val_loss: 0.8677\n",
            "Epoch 8/100\n",
            "\u001b[1m30/30\u001b[0m \u001b[32m━━━━━━━━━━━━━━━━━━━━\u001b[0m\u001b[37m\u001b[0m \u001b[1m0s\u001b[0m 810us/step - attrition_output_accuracy: 0.8835 - attrition_output_loss: 0.2907 - department_output_accuracy: 0.6798 - department_output_loss: 0.4547 - loss: 0.7451 - val_attrition_output_accuracy: 0.8771 - val_attrition_output_loss: 0.3505 - val_department_output_accuracy: 0.6271 - val_department_output_loss: 0.5145 - val_loss: 0.8760\n",
            "Epoch 9/100\n",
            "\u001b[1m30/30\u001b[0m \u001b[32m━━━━━━━━━━━━━━━━━━━━\u001b[0m\u001b[37m\u001b[0m \u001b[1m0s\u001b[0m 798us/step - attrition_output_accuracy: 0.8923 - attrition_output_loss: 0.2858 - department_output_accuracy: 0.6600 - department_output_loss: 0.4615 - loss: 0.7471 - val_attrition_output_accuracy: 0.8559 - val_attrition_output_loss: 0.3503 - val_department_output_accuracy: 0.6271 - val_department_output_loss: 0.5138 - val_loss: 0.8739\n",
            "Epoch 10/100\n",
            "\u001b[1m30/30\u001b[0m \u001b[32m━━━━━━━━━━━━━━━━━━━━\u001b[0m\u001b[37m\u001b[0m \u001b[1m0s\u001b[0m 802us/step - attrition_output_accuracy: 0.8814 - attrition_output_loss: 0.2731 - department_output_accuracy: 0.6766 - department_output_loss: 0.4534 - loss: 0.7263 - val_attrition_output_accuracy: 0.8602 - val_attrition_output_loss: 0.3600 - val_department_output_accuracy: 0.6271 - val_department_output_loss: 0.5134 - val_loss: 0.8845\n",
            "Epoch 11/100\n",
            "\u001b[1m30/30\u001b[0m \u001b[32m━━━━━━━━━━━━━━━━━━━━\u001b[0m\u001b[37m\u001b[0m \u001b[1m0s\u001b[0m 806us/step - attrition_output_accuracy: 0.8686 - attrition_output_loss: 0.3101 - department_output_accuracy: 0.6556 - department_output_loss: 0.4715 - loss: 0.7816 - val_attrition_output_accuracy: 0.8644 - val_attrition_output_loss: 0.3514 - val_department_output_accuracy: 0.6271 - val_department_output_loss: 0.5187 - val_loss: 0.8815\n",
            "Epoch 12/100\n",
            "\u001b[1m30/30\u001b[0m \u001b[32m━━━━━━━━━━━━━━━━━━━━\u001b[0m\u001b[37m\u001b[0m \u001b[1m0s\u001b[0m 801us/step - attrition_output_accuracy: 0.8871 - attrition_output_loss: 0.2988 - department_output_accuracy: 0.6455 - department_output_loss: 0.4752 - loss: 0.7742 - val_attrition_output_accuracy: 0.8602 - val_attrition_output_loss: 0.3575 - val_department_output_accuracy: 0.6271 - val_department_output_loss: 0.5183 - val_loss: 0.8853\n",
            "Epoch 13/100\n",
            "\u001b[1m30/30\u001b[0m \u001b[32m━━━━━━━━━━━━━━━━━━━━\u001b[0m\u001b[37m\u001b[0m \u001b[1m0s\u001b[0m 797us/step - attrition_output_accuracy: 0.8880 - attrition_output_loss: 0.2785 - department_output_accuracy: 0.6685 - department_output_loss: 0.4523 - loss: 0.7310 - val_attrition_output_accuracy: 0.8644 - val_attrition_output_loss: 0.3607 - val_department_output_accuracy: 0.6271 - val_department_output_loss: 0.5186 - val_loss: 0.8899\n",
            "Epoch 14/100\n",
            "\u001b[1m30/30\u001b[0m \u001b[32m━━━━━━━━━━━━━━━━━━━━\u001b[0m\u001b[37m\u001b[0m \u001b[1m0s\u001b[0m 799us/step - attrition_output_accuracy: 0.9115 - attrition_output_loss: 0.2444 - department_output_accuracy: 0.6673 - department_output_loss: 0.4497 - loss: 0.6944 - val_attrition_output_accuracy: 0.8432 - val_attrition_output_loss: 0.3648 - val_department_output_accuracy: 0.6271 - val_department_output_loss: 0.5195 - val_loss: 0.8959\n",
            "Epoch 15/100\n",
            "\u001b[1m30/30\u001b[0m \u001b[32m━━━━━━━━━━━━━━━━━━━━\u001b[0m\u001b[37m\u001b[0m \u001b[1m0s\u001b[0m 791us/step - attrition_output_accuracy: 0.9044 - attrition_output_loss: 0.2676 - department_output_accuracy: 0.6813 - department_output_loss: 0.4436 - loss: 0.7112 - val_attrition_output_accuracy: 0.8432 - val_attrition_output_loss: 0.3797 - val_department_output_accuracy: 0.6271 - val_department_output_loss: 0.5178 - val_loss: 0.9077\n",
            "Epoch 16/100\n",
            "\u001b[1m30/30\u001b[0m \u001b[32m━━━━━━━━━━━━━━━━━━━━\u001b[0m\u001b[37m\u001b[0m \u001b[1m0s\u001b[0m 797us/step - attrition_output_accuracy: 0.9019 - attrition_output_loss: 0.2513 - department_output_accuracy: 0.6658 - department_output_loss: 0.4512 - loss: 0.7024 - val_attrition_output_accuracy: 0.8347 - val_attrition_output_loss: 0.3861 - val_department_output_accuracy: 0.6271 - val_department_output_loss: 0.5203 - val_loss: 0.9166\n",
            "Epoch 17/100\n",
            "\u001b[1m30/30\u001b[0m \u001b[32m━━━━━━━━━━━━━━━━━━━━\u001b[0m\u001b[37m\u001b[0m \u001b[1m0s\u001b[0m 789us/step - attrition_output_accuracy: 0.9081 - attrition_output_loss: 0.2291 - department_output_accuracy: 0.6843 - department_output_loss: 0.4360 - loss: 0.6656 - val_attrition_output_accuracy: 0.8220 - val_attrition_output_loss: 0.3991 - val_department_output_accuracy: 0.6271 - val_department_output_loss: 0.5214 - val_loss: 0.9306\n",
            "Epoch 18/100\n",
            "\u001b[1m30/30\u001b[0m \u001b[32m━━━━━━━━━━━━━━━━━━━━\u001b[0m\u001b[37m\u001b[0m \u001b[1m0s\u001b[0m 792us/step - attrition_output_accuracy: 0.8974 - attrition_output_loss: 0.2383 - department_output_accuracy: 0.6648 - department_output_loss: 0.4443 - loss: 0.6827 - val_attrition_output_accuracy: 0.8390 - val_attrition_output_loss: 0.3885 - val_department_output_accuracy: 0.6271 - val_department_output_loss: 0.5209 - val_loss: 0.9192\n",
            "Epoch 19/100\n",
            "\u001b[1m30/30\u001b[0m \u001b[32m━━━━━━━━━━━━━━━━━━━━\u001b[0m\u001b[37m\u001b[0m \u001b[1m0s\u001b[0m 792us/step - attrition_output_accuracy: 0.9056 - attrition_output_loss: 0.2436 - department_output_accuracy: 0.6657 - department_output_loss: 0.4504 - loss: 0.6939 - val_attrition_output_accuracy: 0.8390 - val_attrition_output_loss: 0.3977 - val_department_output_accuracy: 0.6271 - val_department_output_loss: 0.5219 - val_loss: 0.9275\n",
            "Epoch 20/100\n",
            "\u001b[1m30/30\u001b[0m \u001b[32m━━━━━━━━━━━━━━━━━━━━\u001b[0m\u001b[37m\u001b[0m \u001b[1m0s\u001b[0m 798us/step - attrition_output_accuracy: 0.9275 - attrition_output_loss: 0.2132 - department_output_accuracy: 0.6950 - department_output_loss: 0.4227 - loss: 0.6358 - val_attrition_output_accuracy: 0.8475 - val_attrition_output_loss: 0.3943 - val_department_output_accuracy: 0.6271 - val_department_output_loss: 0.5220 - val_loss: 0.9253\n",
            "Epoch 21/100\n",
            "\u001b[1m30/30\u001b[0m \u001b[32m━━━━━━━━━━━━━━━━━━━━\u001b[0m\u001b[37m\u001b[0m \u001b[1m0s\u001b[0m 836us/step - attrition_output_accuracy: 0.9158 - attrition_output_loss: 0.2124 - department_output_accuracy: 0.6951 - department_output_loss: 0.4267 - loss: 0.6388 - val_attrition_output_accuracy: 0.8347 - val_attrition_output_loss: 0.4181 - val_department_output_accuracy: 0.6271 - val_department_output_loss: 0.5193 - val_loss: 0.9476\n",
            "Epoch 22/100\n",
            "\u001b[1m30/30\u001b[0m \u001b[32m━━━━━━━━━━━━━━━━━━━━\u001b[0m\u001b[37m\u001b[0m \u001b[1m0s\u001b[0m 873us/step - attrition_output_accuracy: 0.9276 - attrition_output_loss: 0.1955 - department_output_accuracy: 0.6583 - department_output_loss: 0.4432 - loss: 0.6387 - val_attrition_output_accuracy: 0.8347 - val_attrition_output_loss: 0.4126 - val_department_output_accuracy: 0.6271 - val_department_output_loss: 0.5210 - val_loss: 0.9432\n",
            "Epoch 23/100\n",
            "\u001b[1m30/30\u001b[0m \u001b[32m━━━━━━━━━━━━━━━━━━━━\u001b[0m\u001b[37m\u001b[0m \u001b[1m0s\u001b[0m 1ms/step - attrition_output_accuracy: 0.8972 - attrition_output_loss: 0.2520 - department_output_accuracy: 0.6873 - department_output_loss: 0.4270 - loss: 0.6790 - val_attrition_output_accuracy: 0.8432 - val_attrition_output_loss: 0.4174 - val_department_output_accuracy: 0.6271 - val_department_output_loss: 0.5186 - val_loss: 0.9456\n",
            "Epoch 24/100\n",
            "\u001b[1m30/30\u001b[0m \u001b[32m━━━━━━━━━━━━━━━━━━━━\u001b[0m\u001b[37m\u001b[0m \u001b[1m0s\u001b[0m 865us/step - attrition_output_accuracy: 0.9289 - attrition_output_loss: 0.1916 - department_output_accuracy: 0.6774 - department_output_loss: 0.4365 - loss: 0.6281 - val_attrition_output_accuracy: 0.8136 - val_attrition_output_loss: 0.4420 - val_department_output_accuracy: 0.6271 - val_department_output_loss: 0.5215 - val_loss: 0.9755\n",
            "Epoch 25/100\n",
            "\u001b[1m30/30\u001b[0m \u001b[32m━━━━━━━━━━━━━━━━━━━━\u001b[0m\u001b[37m\u001b[0m \u001b[1m0s\u001b[0m 880us/step - attrition_output_accuracy: 0.9179 - attrition_output_loss: 0.2171 - department_output_accuracy: 0.6664 - department_output_loss: 0.4288 - loss: 0.6453 - val_attrition_output_accuracy: 0.8432 - val_attrition_output_loss: 0.4222 - val_department_output_accuracy: 0.6229 - val_department_output_loss: 0.5234 - val_loss: 0.9568\n",
            "Epoch 26/100\n",
            "\u001b[1m30/30\u001b[0m \u001b[32m━━━━━━━━━━━━━━━━━━━━\u001b[0m\u001b[37m\u001b[0m \u001b[1m0s\u001b[0m 853us/step - attrition_output_accuracy: 0.9158 - attrition_output_loss: 0.2242 - department_output_accuracy: 0.6821 - department_output_loss: 0.4239 - loss: 0.6482 - val_attrition_output_accuracy: 0.8347 - val_attrition_output_loss: 0.4364 - val_department_output_accuracy: 0.6229 - val_department_output_loss: 0.5226 - val_loss: 0.9710\n",
            "Epoch 27/100\n",
            "\u001b[1m30/30\u001b[0m \u001b[32m━━━━━━━━━━━━━━━━━━━━\u001b[0m\u001b[37m\u001b[0m \u001b[1m0s\u001b[0m 815us/step - attrition_output_accuracy: 0.9236 - attrition_output_loss: 0.1824 - department_output_accuracy: 0.6957 - department_output_loss: 0.4177 - loss: 0.5997 - val_attrition_output_accuracy: 0.8305 - val_attrition_output_loss: 0.4554 - val_department_output_accuracy: 0.6229 - val_department_output_loss: 0.5252 - val_loss: 0.9934\n",
            "Epoch 28/100\n",
            "\u001b[1m30/30\u001b[0m \u001b[32m━━━━━━━━━━━━━━━━━━━━\u001b[0m\u001b[37m\u001b[0m \u001b[1m0s\u001b[0m 787us/step - attrition_output_accuracy: 0.9349 - attrition_output_loss: 0.1828 - department_output_accuracy: 0.6920 - department_output_loss: 0.4048 - loss: 0.5871 - val_attrition_output_accuracy: 0.8305 - val_attrition_output_loss: 0.4612 - val_department_output_accuracy: 0.6186 - val_department_output_loss: 0.5243 - val_loss: 0.9961\n",
            "Epoch 29/100\n",
            "\u001b[1m30/30\u001b[0m \u001b[32m━━━━━━━━━━━━━━━━━━━━\u001b[0m\u001b[37m\u001b[0m \u001b[1m0s\u001b[0m 793us/step - attrition_output_accuracy: 0.9463 - attrition_output_loss: 0.1721 - department_output_accuracy: 0.6930 - department_output_loss: 0.4036 - loss: 0.5758 - val_attrition_output_accuracy: 0.8390 - val_attrition_output_loss: 0.4563 - val_department_output_accuracy: 0.6229 - val_department_output_loss: 0.5240 - val_loss: 0.9950\n",
            "Epoch 30/100\n",
            "\u001b[1m30/30\u001b[0m \u001b[32m━━━━━━━━━━━━━━━━━━━━\u001b[0m\u001b[37m\u001b[0m \u001b[1m0s\u001b[0m 822us/step - attrition_output_accuracy: 0.9330 - attrition_output_loss: 0.1800 - department_output_accuracy: 0.6724 - department_output_loss: 0.4148 - loss: 0.5948 - val_attrition_output_accuracy: 0.8559 - val_attrition_output_loss: 0.4584 - val_department_output_accuracy: 0.6186 - val_department_output_loss: 0.5254 - val_loss: 0.9986\n",
            "Epoch 31/100\n",
            "\u001b[1m30/30\u001b[0m \u001b[32m━━━━━━━━━━━━━━━━━━━━\u001b[0m\u001b[37m\u001b[0m \u001b[1m0s\u001b[0m 789us/step - attrition_output_accuracy: 0.9329 - attrition_output_loss: 0.1641 - department_output_accuracy: 0.6689 - department_output_loss: 0.4113 - loss: 0.5758 - val_attrition_output_accuracy: 0.8432 - val_attrition_output_loss: 0.4616 - val_department_output_accuracy: 0.6314 - val_department_output_loss: 0.5277 - val_loss: 1.0085\n",
            "Epoch 32/100\n",
            "\u001b[1m30/30\u001b[0m \u001b[32m━━━━━━━━━━━━━━━━━━━━\u001b[0m\u001b[37m\u001b[0m \u001b[1m0s\u001b[0m 789us/step - attrition_output_accuracy: 0.9481 - attrition_output_loss: 0.1464 - department_output_accuracy: 0.7138 - department_output_loss: 0.3948 - loss: 0.5411 - val_attrition_output_accuracy: 0.8517 - val_attrition_output_loss: 0.4740 - val_department_output_accuracy: 0.6356 - val_department_output_loss: 0.5263 - val_loss: 1.0156\n",
            "Epoch 33/100\n",
            "\u001b[1m30/30\u001b[0m \u001b[32m━━━━━━━━━━━━━━━━━━━━\u001b[0m\u001b[37m\u001b[0m \u001b[1m0s\u001b[0m 1ms/step - attrition_output_accuracy: 0.9407 - attrition_output_loss: 0.1607 - department_output_accuracy: 0.7007 - department_output_loss: 0.3952 - loss: 0.5561 - val_attrition_output_accuracy: 0.8432 - val_attrition_output_loss: 0.4884 - val_department_output_accuracy: 0.6271 - val_department_output_loss: 0.5302 - val_loss: 1.0366\n",
            "Epoch 34/100\n",
            "\u001b[1m30/30\u001b[0m \u001b[32m━━━━━━━━━━━━━━━━━━━━\u001b[0m\u001b[37m\u001b[0m \u001b[1m0s\u001b[0m 802us/step - attrition_output_accuracy: 0.9429 - attrition_output_loss: 0.1449 - department_output_accuracy: 0.7306 - department_output_loss: 0.3837 - loss: 0.5290 - val_attrition_output_accuracy: 0.8347 - val_attrition_output_loss: 0.4926 - val_department_output_accuracy: 0.6271 - val_department_output_loss: 0.5274 - val_loss: 1.0407\n",
            "Epoch 35/100\n",
            "\u001b[1m30/30\u001b[0m \u001b[32m━━━━━━━━━━━━━━━━━━━━\u001b[0m\u001b[37m\u001b[0m \u001b[1m0s\u001b[0m 794us/step - attrition_output_accuracy: 0.9546 - attrition_output_loss: 0.1290 - department_output_accuracy: 0.7106 - department_output_loss: 0.3908 - loss: 0.5198 - val_attrition_output_accuracy: 0.8347 - val_attrition_output_loss: 0.5255 - val_department_output_accuracy: 0.6186 - val_department_output_loss: 0.5390 - val_loss: 1.0859\n",
            "Epoch 36/100\n",
            "\u001b[1m30/30\u001b[0m \u001b[32m━━━━━━━━━━━━━━━━━━━━\u001b[0m\u001b[37m\u001b[0m \u001b[1m0s\u001b[0m 801us/step - attrition_output_accuracy: 0.9687 - attrition_output_loss: 0.1054 - department_output_accuracy: 0.7270 - department_output_loss: 0.3894 - loss: 0.4947 - val_attrition_output_accuracy: 0.8263 - val_attrition_output_loss: 0.5188 - val_department_output_accuracy: 0.6144 - val_department_output_loss: 0.5439 - val_loss: 1.0818\n",
            "Epoch 37/100\n",
            "\u001b[1m30/30\u001b[0m \u001b[32m━━━━━━━━━━━━━━━━━━━━\u001b[0m\u001b[37m\u001b[0m \u001b[1m0s\u001b[0m 794us/step - attrition_output_accuracy: 0.9667 - attrition_output_loss: 0.1070 - department_output_accuracy: 0.7325 - department_output_loss: 0.3669 - loss: 0.4740 - val_attrition_output_accuracy: 0.8008 - val_attrition_output_loss: 0.5534 - val_department_output_accuracy: 0.6186 - val_department_output_loss: 0.5434 - val_loss: 1.1200\n",
            "Epoch 38/100\n",
            "\u001b[1m30/30\u001b[0m \u001b[32m━━━━━━━━━━━━━━━━━━━━\u001b[0m\u001b[37m\u001b[0m \u001b[1m0s\u001b[0m 786us/step - attrition_output_accuracy: 0.9636 - attrition_output_loss: 0.1207 - department_output_accuracy: 0.7374 - department_output_loss: 0.3676 - loss: 0.4881 - val_attrition_output_accuracy: 0.8475 - val_attrition_output_loss: 0.5576 - val_department_output_accuracy: 0.6144 - val_department_output_loss: 0.5343 - val_loss: 1.1141\n",
            "Epoch 39/100\n",
            "\u001b[1m30/30\u001b[0m \u001b[32m━━━━━━━━━━━━━━━━━━━━\u001b[0m\u001b[37m\u001b[0m \u001b[1m0s\u001b[0m 795us/step - attrition_output_accuracy: 0.9641 - attrition_output_loss: 0.1013 - department_output_accuracy: 0.7701 - department_output_loss: 0.3695 - loss: 0.4706 - val_attrition_output_accuracy: 0.8347 - val_attrition_output_loss: 0.5858 - val_department_output_accuracy: 0.6102 - val_department_output_loss: 0.5529 - val_loss: 1.1663\n",
            "Epoch 40/100\n",
            "\u001b[1m30/30\u001b[0m \u001b[32m━━━━━━━━━━━━━━━━━━━━\u001b[0m\u001b[37m\u001b[0m \u001b[1m0s\u001b[0m 781us/step - attrition_output_accuracy: 0.9695 - attrition_output_loss: 0.1078 - department_output_accuracy: 0.7469 - department_output_loss: 0.3736 - loss: 0.4816 - val_attrition_output_accuracy: 0.8602 - val_attrition_output_loss: 0.5895 - val_department_output_accuracy: 0.6271 - val_department_output_loss: 0.5506 - val_loss: 1.1635\n",
            "Epoch 41/100\n",
            "\u001b[1m30/30\u001b[0m \u001b[32m━━━━━━━━━━━━━━━━━━━━\u001b[0m\u001b[37m\u001b[0m \u001b[1m0s\u001b[0m 793us/step - attrition_output_accuracy: 0.9714 - attrition_output_loss: 0.0938 - department_output_accuracy: 0.7567 - department_output_loss: 0.3739 - loss: 0.4679 - val_attrition_output_accuracy: 0.7797 - val_attrition_output_loss: 0.6447 - val_department_output_accuracy: 0.6186 - val_department_output_loss: 0.5553 - val_loss: 1.2284\n",
            "Epoch 42/100\n",
            "\u001b[1m30/30\u001b[0m \u001b[32m━━━━━━━━━━━━━━━━━━━━\u001b[0m\u001b[37m\u001b[0m \u001b[1m0s\u001b[0m 2ms/step - attrition_output_accuracy: 0.9729 - attrition_output_loss: 0.0912 - department_output_accuracy: 0.7553 - department_output_loss: 0.3712 - loss: 0.4628 - val_attrition_output_accuracy: 0.8220 - val_attrition_output_loss: 0.6400 - val_department_output_accuracy: 0.6186 - val_department_output_loss: 0.5543 - val_loss: 1.2255\n",
            "Epoch 43/100\n",
            "\u001b[1m30/30\u001b[0m \u001b[32m━━━━━━━━━━━━━━━━━━━━\u001b[0m\u001b[37m\u001b[0m \u001b[1m0s\u001b[0m 791us/step - attrition_output_accuracy: 0.9750 - attrition_output_loss: 0.0861 - department_output_accuracy: 0.7844 - department_output_loss: 0.3454 - loss: 0.4314 - val_attrition_output_accuracy: 0.8559 - val_attrition_output_loss: 0.6339 - val_department_output_accuracy: 0.6186 - val_department_output_loss: 0.5524 - val_loss: 1.2116\n",
            "Epoch 44/100\n",
            "\u001b[1m30/30\u001b[0m \u001b[32m━━━━━━━━━━━━━━━━━━━━\u001b[0m\u001b[37m\u001b[0m \u001b[1m0s\u001b[0m 793us/step - attrition_output_accuracy: 0.9754 - attrition_output_loss: 0.0869 - department_output_accuracy: 0.7773 - department_output_loss: 0.3556 - loss: 0.4425 - val_attrition_output_accuracy: 0.8093 - val_attrition_output_loss: 0.6708 - val_department_output_accuracy: 0.6271 - val_department_output_loss: 0.5495 - val_loss: 1.2516\n",
            "Epoch 45/100\n",
            "\u001b[1m30/30\u001b[0m \u001b[32m━━━━━━━━━━━━━━━━━━━━\u001b[0m\u001b[37m\u001b[0m \u001b[1m0s\u001b[0m 790us/step - attrition_output_accuracy: 0.9777 - attrition_output_loss: 0.0707 - department_output_accuracy: 0.8112 - department_output_loss: 0.3408 - loss: 0.4116 - val_attrition_output_accuracy: 0.8136 - val_attrition_output_loss: 0.6848 - val_department_output_accuracy: 0.6186 - val_department_output_loss: 0.5606 - val_loss: 1.2797\n",
            "Epoch 46/100\n",
            "\u001b[1m30/30\u001b[0m \u001b[32m━━━━━━━━━━━━━━━━━━━━\u001b[0m\u001b[37m\u001b[0m \u001b[1m0s\u001b[0m 778us/step - attrition_output_accuracy: 0.9878 - attrition_output_loss: 0.0602 - department_output_accuracy: 0.7834 - department_output_loss: 0.3395 - loss: 0.3996 - val_attrition_output_accuracy: 0.7966 - val_attrition_output_loss: 0.7224 - val_department_output_accuracy: 0.6144 - val_department_output_loss: 0.5699 - val_loss: 1.3277\n",
            "Epoch 47/100\n",
            "\u001b[1m30/30\u001b[0m \u001b[32m━━━━━━━━━━━━━━━━━━━━\u001b[0m\u001b[37m\u001b[0m \u001b[1m0s\u001b[0m 798us/step - attrition_output_accuracy: 0.9764 - attrition_output_loss: 0.0727 - department_output_accuracy: 0.7875 - department_output_loss: 0.3376 - loss: 0.4105 - val_attrition_output_accuracy: 0.8390 - val_attrition_output_loss: 0.6882 - val_department_output_accuracy: 0.6144 - val_department_output_loss: 0.5788 - val_loss: 1.2985\n",
            "Epoch 48/100\n",
            "\u001b[1m30/30\u001b[0m \u001b[32m━━━━━━━━━━━━━━━━━━━━\u001b[0m\u001b[37m\u001b[0m \u001b[1m0s\u001b[0m 793us/step - attrition_output_accuracy: 0.9873 - attrition_output_loss: 0.0559 - department_output_accuracy: 0.7777 - department_output_loss: 0.3302 - loss: 0.3860 - val_attrition_output_accuracy: 0.8136 - val_attrition_output_loss: 0.7655 - val_department_output_accuracy: 0.6144 - val_department_output_loss: 0.5690 - val_loss: 1.3716\n",
            "Epoch 49/100\n",
            "\u001b[1m30/30\u001b[0m \u001b[32m━━━━━━━━━━━━━━━━━━━━\u001b[0m\u001b[37m\u001b[0m \u001b[1m0s\u001b[0m 791us/step - attrition_output_accuracy: 0.9914 - attrition_output_loss: 0.0534 - department_output_accuracy: 0.8106 - department_output_loss: 0.3332 - loss: 0.3867 - val_attrition_output_accuracy: 0.8220 - val_attrition_output_loss: 0.7650 - val_department_output_accuracy: 0.6271 - val_department_output_loss: 0.5779 - val_loss: 1.3808\n",
            "Epoch 50/100\n",
            "\u001b[1m30/30\u001b[0m \u001b[32m━━━━━━━━━━━━━━━━━━━━\u001b[0m\u001b[37m\u001b[0m \u001b[1m0s\u001b[0m 786us/step - attrition_output_accuracy: 0.9883 - attrition_output_loss: 0.0467 - department_output_accuracy: 0.8130 - department_output_loss: 0.3151 - loss: 0.3620 - val_attrition_output_accuracy: 0.8093 - val_attrition_output_loss: 0.8149 - val_department_output_accuracy: 0.6314 - val_department_output_loss: 0.5707 - val_loss: 1.4298\n",
            "Epoch 51/100\n",
            "\u001b[1m30/30\u001b[0m \u001b[32m━━━━━━━━━━━━━━━━━━━━\u001b[0m\u001b[37m\u001b[0m \u001b[1m0s\u001b[0m 782us/step - attrition_output_accuracy: 0.9885 - attrition_output_loss: 0.0459 - department_output_accuracy: 0.8110 - department_output_loss: 0.3204 - loss: 0.3664 - val_attrition_output_accuracy: 0.8093 - val_attrition_output_loss: 0.8089 - val_department_output_accuracy: 0.6186 - val_department_output_loss: 0.5765 - val_loss: 1.4274\n",
            "Epoch 52/100\n",
            "\u001b[1m30/30\u001b[0m \u001b[32m━━━━━━━━━━━━━━━━━━━━\u001b[0m\u001b[37m\u001b[0m \u001b[1m0s\u001b[0m 785us/step - attrition_output_accuracy: 0.9973 - attrition_output_loss: 0.0379 - department_output_accuracy: 0.8180 - department_output_loss: 0.3101 - loss: 0.3481 - val_attrition_output_accuracy: 0.7966 - val_attrition_output_loss: 0.8535 - val_department_output_accuracy: 0.6271 - val_department_output_loss: 0.5853 - val_loss: 1.4826\n",
            "Epoch 53/100\n",
            "\u001b[1m30/30\u001b[0m \u001b[32m━━━━━━━━━━━━━━━━━━━━\u001b[0m\u001b[37m\u001b[0m \u001b[1m0s\u001b[0m 792us/step - attrition_output_accuracy: 0.9917 - attrition_output_loss: 0.0450 - department_output_accuracy: 0.8065 - department_output_loss: 0.3031 - loss: 0.3479 - val_attrition_output_accuracy: 0.8051 - val_attrition_output_loss: 0.8966 - val_department_output_accuracy: 0.6186 - val_department_output_loss: 0.5809 - val_loss: 1.5262\n",
            "Epoch 54/100\n",
            "\u001b[1m30/30\u001b[0m \u001b[32m━━━━━━━━━━━━━━━━━━━━\u001b[0m\u001b[37m\u001b[0m \u001b[1m0s\u001b[0m 779us/step - attrition_output_accuracy: 0.9884 - attrition_output_loss: 0.0426 - department_output_accuracy: 0.8239 - department_output_loss: 0.3080 - loss: 0.3507 - val_attrition_output_accuracy: 0.8347 - val_attrition_output_loss: 0.8728 - val_department_output_accuracy: 0.6059 - val_department_output_loss: 0.5790 - val_loss: 1.4920\n",
            "Epoch 55/100\n",
            "\u001b[1m30/30\u001b[0m \u001b[32m━━━━━━━━━━━━━━━━━━━━\u001b[0m\u001b[37m\u001b[0m \u001b[1m0s\u001b[0m 784us/step - attrition_output_accuracy: 0.9954 - attrition_output_loss: 0.0393 - department_output_accuracy: 0.8131 - department_output_loss: 0.3143 - loss: 0.3536 - val_attrition_output_accuracy: 0.7966 - val_attrition_output_loss: 0.9262 - val_department_output_accuracy: 0.6144 - val_department_output_loss: 0.5948 - val_loss: 1.5760\n",
            "Epoch 56/100\n",
            "\u001b[1m30/30\u001b[0m \u001b[32m━━━━━━━━━━━━━━━━━━━━\u001b[0m\u001b[37m\u001b[0m \u001b[1m0s\u001b[0m 782us/step - attrition_output_accuracy: 0.9977 - attrition_output_loss: 0.0303 - department_output_accuracy: 0.7789 - department_output_loss: 0.3271 - loss: 0.3574 - val_attrition_output_accuracy: 0.7966 - val_attrition_output_loss: 0.9388 - val_department_output_accuracy: 0.6271 - val_department_output_loss: 0.5921 - val_loss: 1.5817\n",
            "Epoch 57/100\n",
            "\u001b[1m30/30\u001b[0m \u001b[32m━━━━━━━━━━━━━━━━━━━━\u001b[0m\u001b[37m\u001b[0m \u001b[1m0s\u001b[0m 1ms/step - attrition_output_accuracy: 0.9989 - attrition_output_loss: 0.0306 - department_output_accuracy: 0.8063 - department_output_loss: 0.3044 - loss: 0.3350 - val_attrition_output_accuracy: 0.8008 - val_attrition_output_loss: 0.9278 - val_department_output_accuracy: 0.6271 - val_department_output_loss: 0.6011 - val_loss: 1.5837\n",
            "Epoch 58/100\n",
            "\u001b[1m30/30\u001b[0m \u001b[32m━━━━━━━━━━━━━━━━━━━━\u001b[0m\u001b[37m\u001b[0m \u001b[1m0s\u001b[0m 2ms/step - attrition_output_accuracy: 0.9951 - attrition_output_loss: 0.0345 - department_output_accuracy: 0.8188 - department_output_loss: 0.2863 - loss: 0.3209 - val_attrition_output_accuracy: 0.8136 - val_attrition_output_loss: 0.9776 - val_department_output_accuracy: 0.6186 - val_department_output_loss: 0.5977 - val_loss: 1.6274\n",
            "Epoch 59/100\n",
            "\u001b[1m30/30\u001b[0m \u001b[32m━━━━━━━━━━━━━━━━━━━━\u001b[0m\u001b[37m\u001b[0m \u001b[1m0s\u001b[0m 804us/step - attrition_output_accuracy: 0.9972 - attrition_output_loss: 0.0258 - department_output_accuracy: 0.8532 - department_output_loss: 0.2835 - loss: 0.3091 - val_attrition_output_accuracy: 0.7881 - val_attrition_output_loss: 1.0034 - val_department_output_accuracy: 0.6102 - val_department_output_loss: 0.5995 - val_loss: 1.6610\n",
            "Epoch 60/100\n",
            "\u001b[1m30/30\u001b[0m \u001b[32m━━━━━━━━━━━━━━━━━━━━\u001b[0m\u001b[37m\u001b[0m \u001b[1m0s\u001b[0m 794us/step - attrition_output_accuracy: 0.9965 - attrition_output_loss: 0.0284 - department_output_accuracy: 0.8400 - department_output_loss: 0.2818 - loss: 0.3099 - val_attrition_output_accuracy: 0.8093 - val_attrition_output_loss: 1.0227 - val_department_output_accuracy: 0.6059 - val_department_output_loss: 0.6008 - val_loss: 1.6841\n",
            "Epoch 61/100\n",
            "\u001b[1m30/30\u001b[0m \u001b[32m━━━━━━━━━━━━━━━━━━━━\u001b[0m\u001b[37m\u001b[0m \u001b[1m0s\u001b[0m 799us/step - attrition_output_accuracy: 0.9968 - attrition_output_loss: 0.0237 - department_output_accuracy: 0.8438 - department_output_loss: 0.2866 - loss: 0.3103 - val_attrition_output_accuracy: 0.7839 - val_attrition_output_loss: 1.0369 - val_department_output_accuracy: 0.6186 - val_department_output_loss: 0.6098 - val_loss: 1.7063\n",
            "Epoch 62/100\n",
            "\u001b[1m30/30\u001b[0m \u001b[32m━━━━━━━━━━━━━━━━━━━━\u001b[0m\u001b[37m\u001b[0m \u001b[1m0s\u001b[0m 789us/step - attrition_output_accuracy: 0.9974 - attrition_output_loss: 0.0224 - department_output_accuracy: 0.8365 - department_output_loss: 0.2797 - loss: 0.3023 - val_attrition_output_accuracy: 0.7924 - val_attrition_output_loss: 1.0672 - val_department_output_accuracy: 0.6102 - val_department_output_loss: 0.6120 - val_loss: 1.7316\n",
            "Epoch 63/100\n",
            "\u001b[1m30/30\u001b[0m \u001b[32m━━━━━━━━━━━━━━━━━━━━\u001b[0m\u001b[37m\u001b[0m \u001b[1m0s\u001b[0m 802us/step - attrition_output_accuracy: 0.9986 - attrition_output_loss: 0.0202 - department_output_accuracy: 0.8315 - department_output_loss: 0.2739 - loss: 0.2941 - val_attrition_output_accuracy: 0.8008 - val_attrition_output_loss: 1.0878 - val_department_output_accuracy: 0.6144 - val_department_output_loss: 0.6174 - val_loss: 1.7693\n",
            "Epoch 64/100\n",
            "\u001b[1m30/30\u001b[0m \u001b[32m━━━━━━━━━━━━━━━━━━━━\u001b[0m\u001b[37m\u001b[0m \u001b[1m0s\u001b[0m 791us/step - attrition_output_accuracy: 0.9952 - attrition_output_loss: 0.0202 - department_output_accuracy: 0.8428 - department_output_loss: 0.2771 - loss: 0.2973 - val_attrition_output_accuracy: 0.8051 - val_attrition_output_loss: 1.1285 - val_department_output_accuracy: 0.6186 - val_department_output_loss: 0.6257 - val_loss: 1.8193\n",
            "Epoch 65/100\n",
            "\u001b[1m30/30\u001b[0m \u001b[32m━━━━━━━━━━━━━━━━━━━━\u001b[0m\u001b[37m\u001b[0m \u001b[1m0s\u001b[0m 787us/step - attrition_output_accuracy: 0.9997 - attrition_output_loss: 0.0164 - department_output_accuracy: 0.8062 - department_output_loss: 0.2872 - loss: 0.3035 - val_attrition_output_accuracy: 0.7924 - val_attrition_output_loss: 1.1222 - val_department_output_accuracy: 0.6271 - val_department_output_loss: 0.6382 - val_loss: 1.8187\n",
            "Epoch 66/100\n",
            "\u001b[1m30/30\u001b[0m \u001b[32m━━━━━━━━━━━━━━━━━━━━\u001b[0m\u001b[37m\u001b[0m \u001b[1m0s\u001b[0m 793us/step - attrition_output_accuracy: 0.9993 - attrition_output_loss: 0.0155 - department_output_accuracy: 0.8469 - department_output_loss: 0.2602 - loss: 0.2757 - val_attrition_output_accuracy: 0.7712 - val_attrition_output_loss: 1.1528 - val_department_output_accuracy: 0.6186 - val_department_output_loss: 0.6287 - val_loss: 1.8391\n",
            "Epoch 67/100\n",
            "\u001b[1m30/30\u001b[0m \u001b[32m━━━━━━━━━━━━━━━━━━━━\u001b[0m\u001b[37m\u001b[0m \u001b[1m0s\u001b[0m 809us/step - attrition_output_accuracy: 0.9989 - attrition_output_loss: 0.0167 - department_output_accuracy: 0.8404 - department_output_loss: 0.2673 - loss: 0.2839 - val_attrition_output_accuracy: 0.7839 - val_attrition_output_loss: 1.1807 - val_department_output_accuracy: 0.6271 - val_department_output_loss: 0.6486 - val_loss: 1.8988\n",
            "Epoch 68/100\n",
            "\u001b[1m30/30\u001b[0m \u001b[32m━━━━━━━━━━━━━━━━━━━━\u001b[0m\u001b[37m\u001b[0m \u001b[1m0s\u001b[0m 785us/step - attrition_output_accuracy: 0.9990 - attrition_output_loss: 0.0207 - department_output_accuracy: 0.8415 - department_output_loss: 0.2551 - loss: 0.2758 - val_attrition_output_accuracy: 0.7881 - val_attrition_output_loss: 1.1907 - val_department_output_accuracy: 0.5975 - val_department_output_loss: 0.6598 - val_loss: 1.9148\n",
            "Epoch 69/100\n",
            "\u001b[1m30/30\u001b[0m \u001b[32m━━━━━━━━━━━━━━━━━━━━\u001b[0m\u001b[37m\u001b[0m \u001b[1m0s\u001b[0m 782us/step - attrition_output_accuracy: 0.9987 - attrition_output_loss: 0.0156 - department_output_accuracy: 0.8560 - department_output_loss: 0.2530 - loss: 0.2687 - val_attrition_output_accuracy: 0.8051 - val_attrition_output_loss: 1.2169 - val_department_output_accuracy: 0.6314 - val_department_output_loss: 0.6819 - val_loss: 1.9650\n",
            "Epoch 70/100\n",
            "\u001b[1m30/30\u001b[0m \u001b[32m━━━━━━━━━━━━━━━━━━━━\u001b[0m\u001b[37m\u001b[0m \u001b[1m0s\u001b[0m 781us/step - attrition_output_accuracy: 1.0000 - attrition_output_loss: 0.0185 - department_output_accuracy: 0.8291 - department_output_loss: 0.2699 - loss: 0.2885 - val_attrition_output_accuracy: 0.7924 - val_attrition_output_loss: 1.2449 - val_department_output_accuracy: 0.6144 - val_department_output_loss: 0.6582 - val_loss: 1.9779\n",
            "Epoch 71/100\n",
            "\u001b[1m30/30\u001b[0m \u001b[32m━━━━━━━━━━━━━━━━━━━━\u001b[0m\u001b[37m\u001b[0m \u001b[1m0s\u001b[0m 778us/step - attrition_output_accuracy: 0.9991 - attrition_output_loss: 0.0136 - department_output_accuracy: 0.8634 - department_output_loss: 0.2278 - loss: 0.2414 - val_attrition_output_accuracy: 0.7924 - val_attrition_output_loss: 1.2479 - val_department_output_accuracy: 0.6102 - val_department_output_loss: 0.6654 - val_loss: 1.9879\n",
            "Epoch 72/100\n",
            "\u001b[1m30/30\u001b[0m \u001b[32m━━━━━━━━━━━━━━━━━━━━\u001b[0m\u001b[37m\u001b[0m \u001b[1m0s\u001b[0m 781us/step - attrition_output_accuracy: 0.9999 - attrition_output_loss: 0.0102 - department_output_accuracy: 0.8905 - department_output_loss: 0.2245 - loss: 0.2346 - val_attrition_output_accuracy: 0.8093 - val_attrition_output_loss: 1.2579 - val_department_output_accuracy: 0.6102 - val_department_output_loss: 0.6781 - val_loss: 2.0051\n",
            "Epoch 73/100\n",
            "\u001b[1m30/30\u001b[0m \u001b[32m━━━━━━━━━━━━━━━━━━━━\u001b[0m\u001b[37m\u001b[0m \u001b[1m0s\u001b[0m 2ms/step - attrition_output_accuracy: 1.0000 - attrition_output_loss: 0.0121 - department_output_accuracy: 0.8453 - department_output_loss: 0.2469 - loss: 0.2591 - val_attrition_output_accuracy: 0.7881 - val_attrition_output_loss: 1.3070 - val_department_output_accuracy: 0.6271 - val_department_output_loss: 0.6896 - val_loss: 2.0669\n",
            "Epoch 74/100\n",
            "\u001b[1m30/30\u001b[0m \u001b[32m━━━━━━━━━━━━━━━━━━━━\u001b[0m\u001b[37m\u001b[0m \u001b[1m0s\u001b[0m 795us/step - attrition_output_accuracy: 1.0000 - attrition_output_loss: 0.0108 - department_output_accuracy: 0.8651 - department_output_loss: 0.2291 - loss: 0.2400 - val_attrition_output_accuracy: 0.7966 - val_attrition_output_loss: 1.2841 - val_department_output_accuracy: 0.6398 - val_department_output_loss: 0.6787 - val_loss: 2.0272\n",
            "Epoch 75/100\n",
            "\u001b[1m30/30\u001b[0m \u001b[32m━━━━━━━━━━━━━━━━━━━━\u001b[0m\u001b[37m\u001b[0m \u001b[1m0s\u001b[0m 778us/step - attrition_output_accuracy: 1.0000 - attrition_output_loss: 0.0101 - department_output_accuracy: 0.8643 - department_output_loss: 0.2350 - loss: 0.2452 - val_attrition_output_accuracy: 0.8220 - val_attrition_output_loss: 1.3279 - val_department_output_accuracy: 0.6229 - val_department_output_loss: 0.6919 - val_loss: 2.0873\n",
            "Epoch 76/100\n",
            "\u001b[1m30/30\u001b[0m \u001b[32m━━━━━━━━━━━━━━━━━━━━\u001b[0m\u001b[37m\u001b[0m \u001b[1m0s\u001b[0m 782us/step - attrition_output_accuracy: 1.0000 - attrition_output_loss: 0.0100 - department_output_accuracy: 0.8712 - department_output_loss: 0.2227 - loss: 0.2326 - val_attrition_output_accuracy: 0.7924 - val_attrition_output_loss: 1.3199 - val_department_output_accuracy: 0.6186 - val_department_output_loss: 0.7066 - val_loss: 2.1061\n",
            "Epoch 77/100\n",
            "\u001b[1m30/30\u001b[0m \u001b[32m━━━━━━━━━━━━━━━━━━━━\u001b[0m\u001b[37m\u001b[0m \u001b[1m0s\u001b[0m 787us/step - attrition_output_accuracy: 0.9994 - attrition_output_loss: 0.0123 - department_output_accuracy: 0.8642 - department_output_loss: 0.2280 - loss: 0.2403 - val_attrition_output_accuracy: 0.8093 - val_attrition_output_loss: 1.3398 - val_department_output_accuracy: 0.6186 - val_department_output_loss: 0.6914 - val_loss: 2.1025\n",
            "Epoch 78/100\n",
            "\u001b[1m30/30\u001b[0m \u001b[32m━━━━━━━━━━━━━━━━━━━━\u001b[0m\u001b[37m\u001b[0m \u001b[1m0s\u001b[0m 782us/step - attrition_output_accuracy: 1.0000 - attrition_output_loss: 0.0091 - department_output_accuracy: 0.8920 - department_output_loss: 0.2118 - loss: 0.2209 - val_attrition_output_accuracy: 0.8093 - val_attrition_output_loss: 1.3527 - val_department_output_accuracy: 0.6314 - val_department_output_loss: 0.7037 - val_loss: 2.1238\n",
            "Epoch 79/100\n",
            "\u001b[1m30/30\u001b[0m \u001b[32m━━━━━━━━━━━━━━━━━━━━\u001b[0m\u001b[37m\u001b[0m \u001b[1m0s\u001b[0m 777us/step - attrition_output_accuracy: 1.0000 - attrition_output_loss: 0.0099 - department_output_accuracy: 0.8943 - department_output_loss: 0.2041 - loss: 0.2140 - val_attrition_output_accuracy: 0.8093 - val_attrition_output_loss: 1.3640 - val_department_output_accuracy: 0.6102 - val_department_output_loss: 0.7191 - val_loss: 2.1564\n",
            "Epoch 80/100\n",
            "\u001b[1m30/30\u001b[0m \u001b[32m━━━━━━━━━━━━━━━━━━━━\u001b[0m\u001b[37m\u001b[0m \u001b[1m0s\u001b[0m 782us/step - attrition_output_accuracy: 1.0000 - attrition_output_loss: 0.0097 - department_output_accuracy: 0.8918 - department_output_loss: 0.1973 - loss: 0.2070 - val_attrition_output_accuracy: 0.7966 - val_attrition_output_loss: 1.4017 - val_department_output_accuracy: 0.6229 - val_department_output_loss: 0.7134 - val_loss: 2.1838\n",
            "Epoch 81/100\n",
            "\u001b[1m30/30\u001b[0m \u001b[32m━━━━━━━━━━━━━━━━━━━━\u001b[0m\u001b[37m\u001b[0m \u001b[1m0s\u001b[0m 789us/step - attrition_output_accuracy: 1.0000 - attrition_output_loss: 0.0080 - department_output_accuracy: 0.8989 - department_output_loss: 0.1977 - loss: 0.2058 - val_attrition_output_accuracy: 0.8051 - val_attrition_output_loss: 1.4324 - val_department_output_accuracy: 0.6186 - val_department_output_loss: 0.7331 - val_loss: 2.2383\n",
            "Epoch 82/100\n",
            "\u001b[1m30/30\u001b[0m \u001b[32m━━━━━━━━━━━━━━━━━━━━\u001b[0m\u001b[37m\u001b[0m \u001b[1m0s\u001b[0m 789us/step - attrition_output_accuracy: 1.0000 - attrition_output_loss: 0.0072 - department_output_accuracy: 0.9167 - department_output_loss: 0.1802 - loss: 0.1874 - val_attrition_output_accuracy: 0.8051 - val_attrition_output_loss: 1.4375 - val_department_output_accuracy: 0.6271 - val_department_output_loss: 0.7383 - val_loss: 2.2465\n",
            "Epoch 83/100\n",
            "\u001b[1m30/30\u001b[0m \u001b[32m━━━━━━━━━━━━━━━━━━━━\u001b[0m\u001b[37m\u001b[0m \u001b[1m0s\u001b[0m 792us/step - attrition_output_accuracy: 1.0000 - attrition_output_loss: 0.0082 - department_output_accuracy: 0.8881 - department_output_loss: 0.2077 - loss: 0.2161 - val_attrition_output_accuracy: 0.7966 - val_attrition_output_loss: 1.4570 - val_department_output_accuracy: 0.6356 - val_department_output_loss: 0.7535 - val_loss: 2.2911\n",
            "Epoch 84/100\n",
            "\u001b[1m30/30\u001b[0m \u001b[32m━━━━━━━━━━━━━━━━━━━━\u001b[0m\u001b[37m\u001b[0m \u001b[1m0s\u001b[0m 774us/step - attrition_output_accuracy: 1.0000 - attrition_output_loss: 0.0094 - department_output_accuracy: 0.9040 - department_output_loss: 0.2029 - loss: 0.2123 - val_attrition_output_accuracy: 0.8051 - val_attrition_output_loss: 1.4894 - val_department_output_accuracy: 0.6271 - val_department_output_loss: 0.7488 - val_loss: 2.3133\n",
            "Epoch 85/100\n",
            "\u001b[1m30/30\u001b[0m \u001b[32m━━━━━━━━━━━━━━━━━━━━\u001b[0m\u001b[37m\u001b[0m \u001b[1m0s\u001b[0m 786us/step - attrition_output_accuracy: 1.0000 - attrition_output_loss: 0.0078 - department_output_accuracy: 0.9064 - department_output_loss: 0.1868 - loss: 0.1946 - val_attrition_output_accuracy: 0.7924 - val_attrition_output_loss: 1.4663 - val_department_output_accuracy: 0.6229 - val_department_output_loss: 0.7651 - val_loss: 2.3036\n",
            "Epoch 86/100\n",
            "\u001b[1m30/30\u001b[0m \u001b[32m━━━━━━━━━━━━━━━━━━━━\u001b[0m\u001b[37m\u001b[0m \u001b[1m0s\u001b[0m 831us/step - attrition_output_accuracy: 0.9998 - attrition_output_loss: 0.0091 - department_output_accuracy: 0.9025 - department_output_loss: 0.1976 - loss: 0.2068 - val_attrition_output_accuracy: 0.8008 - val_attrition_output_loss: 1.5149 - val_department_output_accuracy: 0.6398 - val_department_output_loss: 0.7663 - val_loss: 2.3579\n",
            "Epoch 87/100\n",
            "\u001b[1m30/30\u001b[0m \u001b[32m━━━━━━━━━━━━━━━━━━━━\u001b[0m\u001b[37m\u001b[0m \u001b[1m0s\u001b[0m 798us/step - attrition_output_accuracy: 1.0000 - attrition_output_loss: 0.0090 - department_output_accuracy: 0.8996 - department_output_loss: 0.1908 - loss: 0.1997 - val_attrition_output_accuracy: 0.8008 - val_attrition_output_loss: 1.5494 - val_department_output_accuracy: 0.6356 - val_department_output_loss: 0.7803 - val_loss: 2.4066\n",
            "Epoch 88/100\n",
            "\u001b[1m30/30\u001b[0m \u001b[32m━━━━━━━━━━━━━━━━━━━━\u001b[0m\u001b[37m\u001b[0m \u001b[1m0s\u001b[0m 786us/step - attrition_output_accuracy: 0.9988 - attrition_output_loss: 0.0083 - department_output_accuracy: 0.9034 - department_output_loss: 0.1784 - loss: 0.1868 - val_attrition_output_accuracy: 0.8093 - val_attrition_output_loss: 1.5587 - val_department_output_accuracy: 0.5847 - val_department_output_loss: 0.7632 - val_loss: 2.3850\n",
            "Epoch 89/100\n",
            "\u001b[1m30/30\u001b[0m \u001b[32m━━━━━━━━━━━━━━━━━━━━\u001b[0m\u001b[37m\u001b[0m \u001b[1m0s\u001b[0m 783us/step - attrition_output_accuracy: 0.9981 - attrition_output_loss: 0.0121 - department_output_accuracy: 0.9151 - department_output_loss: 0.1777 - loss: 0.1898 - val_attrition_output_accuracy: 0.7754 - val_attrition_output_loss: 1.5799 - val_department_output_accuracy: 0.6059 - val_department_output_loss: 0.7750 - val_loss: 2.4397\n",
            "Epoch 90/100\n",
            "\u001b[1m30/30\u001b[0m \u001b[32m━━━━━━━━━━━━━━━━━━━━\u001b[0m\u001b[37m\u001b[0m \u001b[1m0s\u001b[0m 785us/step - attrition_output_accuracy: 0.9994 - attrition_output_loss: 0.0090 - department_output_accuracy: 0.9238 - department_output_loss: 0.1659 - loss: 0.1751 - val_attrition_output_accuracy: 0.8008 - val_attrition_output_loss: 1.5761 - val_department_output_accuracy: 0.6186 - val_department_output_loss: 0.8125 - val_loss: 2.4805\n",
            "Epoch 91/100\n",
            "\u001b[1m30/30\u001b[0m \u001b[32m━━━━━━━━━━━━━━━━━━━━\u001b[0m\u001b[37m\u001b[0m \u001b[1m0s\u001b[0m 785us/step - attrition_output_accuracy: 0.9973 - attrition_output_loss: 0.0137 - department_output_accuracy: 0.9109 - department_output_loss: 0.1687 - loss: 0.1824 - val_attrition_output_accuracy: 0.7881 - val_attrition_output_loss: 1.5874 - val_department_output_accuracy: 0.6314 - val_department_output_loss: 0.8060 - val_loss: 2.4724\n",
            "Epoch 92/100\n",
            "\u001b[1m30/30\u001b[0m \u001b[32m━━━━━━━━━━━━━━━━━━━━\u001b[0m\u001b[37m\u001b[0m \u001b[1m0s\u001b[0m 795us/step - attrition_output_accuracy: 1.0000 - attrition_output_loss: 0.0081 - department_output_accuracy: 0.9159 - department_output_loss: 0.1736 - loss: 0.1816 - val_attrition_output_accuracy: 0.8093 - val_attrition_output_loss: 1.5962 - val_department_output_accuracy: 0.6441 - val_department_output_loss: 0.8178 - val_loss: 2.4997\n",
            "Epoch 93/100\n",
            "\u001b[1m30/30\u001b[0m \u001b[32m━━━━━━━━━━━━━━━━━━━━\u001b[0m\u001b[37m\u001b[0m \u001b[1m0s\u001b[0m 796us/step - attrition_output_accuracy: 1.0000 - attrition_output_loss: 0.0061 - department_output_accuracy: 0.9082 - department_output_loss: 0.1703 - loss: 0.1764 - val_attrition_output_accuracy: 0.8008 - val_attrition_output_loss: 1.6331 - val_department_output_accuracy: 0.6356 - val_department_output_loss: 0.8142 - val_loss: 2.5321\n",
            "Epoch 94/100\n",
            "\u001b[1m30/30\u001b[0m \u001b[32m━━━━━━━━━━━━━━━━━━━━\u001b[0m\u001b[37m\u001b[0m \u001b[1m0s\u001b[0m 786us/step - attrition_output_accuracy: 1.0000 - attrition_output_loss: 0.0052 - department_output_accuracy: 0.9206 - department_output_loss: 0.1568 - loss: 0.1620 - val_attrition_output_accuracy: 0.8008 - val_attrition_output_loss: 1.6437 - val_department_output_accuracy: 0.6102 - val_department_output_loss: 0.8133 - val_loss: 2.5427\n",
            "Epoch 95/100\n",
            "\u001b[1m30/30\u001b[0m \u001b[32m━━━━━━━━━━━━━━━━━━━━\u001b[0m\u001b[37m\u001b[0m \u001b[1m0s\u001b[0m 771us/step - attrition_output_accuracy: 1.0000 - attrition_output_loss: 0.0044 - department_output_accuracy: 0.9222 - department_output_loss: 0.1555 - loss: 0.1600 - val_attrition_output_accuracy: 0.8008 - val_attrition_output_loss: 1.6785 - val_department_output_accuracy: 0.6186 - val_department_output_loss: 0.8254 - val_loss: 2.5935\n",
            "Epoch 96/100\n",
            "\u001b[1m30/30\u001b[0m \u001b[32m━━━━━━━━━━━━━━━━━━━━\u001b[0m\u001b[37m\u001b[0m \u001b[1m0s\u001b[0m 801us/step - attrition_output_accuracy: 1.0000 - attrition_output_loss: 0.0044 - department_output_accuracy: 0.9115 - department_output_loss: 0.1505 - loss: 0.1550 - val_attrition_output_accuracy: 0.7966 - val_attrition_output_loss: 1.6561 - val_department_output_accuracy: 0.6271 - val_department_output_loss: 0.8478 - val_loss: 2.5979\n",
            "Epoch 97/100\n",
            "\u001b[1m30/30\u001b[0m \u001b[32m━━━━━━━━━━━━━━━━━━━━\u001b[0m\u001b[37m\u001b[0m \u001b[1m0s\u001b[0m 2ms/step - attrition_output_accuracy: 1.0000 - attrition_output_loss: 0.0051 - department_output_accuracy: 0.9250 - department_output_loss: 0.1573 - loss: 0.1625 - val_attrition_output_accuracy: 0.8008 - val_attrition_output_loss: 1.6965 - val_department_output_accuracy: 0.6314 - val_department_output_loss: 0.8513 - val_loss: 2.6421\n",
            "Epoch 98/100\n",
            "\u001b[1m30/30\u001b[0m \u001b[32m━━━━━━━━━━━━━━━━━━━━\u001b[0m\u001b[37m\u001b[0m \u001b[1m0s\u001b[0m 807us/step - attrition_output_accuracy: 1.0000 - attrition_output_loss: 0.0040 - department_output_accuracy: 0.9242 - department_output_loss: 0.1419 - loss: 0.1460 - val_attrition_output_accuracy: 0.7966 - val_attrition_output_loss: 1.7254 - val_department_output_accuracy: 0.6186 - val_department_output_loss: 0.8660 - val_loss: 2.6781\n",
            "Epoch 99/100\n",
            "\u001b[1m30/30\u001b[0m \u001b[32m━━━━━━━━━━━━━━━━━━━━\u001b[0m\u001b[37m\u001b[0m \u001b[1m0s\u001b[0m 787us/step - attrition_output_accuracy: 1.0000 - attrition_output_loss: 0.0050 - department_output_accuracy: 0.9338 - department_output_loss: 0.1362 - loss: 0.1410 - val_attrition_output_accuracy: 0.8051 - val_attrition_output_loss: 1.7316 - val_department_output_accuracy: 0.6271 - val_department_output_loss: 0.8881 - val_loss: 2.7136\n",
            "Epoch 100/100\n",
            "\u001b[1m30/30\u001b[0m \u001b[32m━━━━━━━━━━━━━━━━━━━━\u001b[0m\u001b[37m\u001b[0m \u001b[1m0s\u001b[0m 794us/step - attrition_output_accuracy: 1.0000 - attrition_output_loss: 0.0046 - department_output_accuracy: 0.9208 - department_output_loss: 0.1485 - loss: 0.1530 - val_attrition_output_accuracy: 0.8051 - val_attrition_output_loss: 1.7233 - val_department_output_accuracy: 0.6271 - val_department_output_loss: 0.8833 - val_loss: 2.6940\n"
          ]
        }
      ],
      "source": [
        "# Train the model\n",
        "history = model.fit(X_train_scaled, \n",
        "                    [y_train_department_encoded, y_train_attrition_encoded],\n",
        "                    epochs=100,\n",
        "                    batch_size=32,\n",
        "                    validation_split=0.2,\n",
        "                    verbose=1)\n"
      ]
    },
    {
      "cell_type": "code",
      "execution_count": 17,
      "metadata": {
        "colab": {
          "base_uri": "https://localhost:8080/"
        },
        "id": "VsMoaQlgGc3U",
        "outputId": "1bd4e601-e964-4abc-ad83-aeecf6b696be"
      },
      "outputs": [
        {
          "name": "stdout",
          "output_type": "stream",
          "text": [
            "\u001b[1m10/10\u001b[0m \u001b[32m━━━━━━━━━━━━━━━━━━━━\u001b[0m\u001b[37m\u001b[0m \u001b[1m0s\u001b[0m 475us/step - attrition_output_accuracy: 0.8200 - attrition_output_loss: 2.0256 - department_output_accuracy: 0.6170 - department_output_loss: 0.7999 - loss: 2.7685\n"
          ]
        }
      ],
      "source": [
        "# Evaluate the model with the testing data\n",
        "evaluation = model.evaluate(X_test_scaled, \n",
        "                            [y_test_department_encoded, y_test_attrition_encoded], return_dict=True)\n",
        "\n",
        "\n"
      ]
    },
    {
      "cell_type": "code",
      "execution_count": 18,
      "metadata": {},
      "outputs": [
        {
          "data": {
            "text/plain": [
              "{'attrition_output_accuracy': 0.8129251599311829,\n",
              " 'attrition_output_loss': 2.562821865081787,\n",
              " 'department_output_accuracy': 0.6190476417541504,\n",
              " 'department_output_loss': 0.8545092344284058,\n",
              " 'loss': 3.1039137840270996}"
            ]
          },
          "execution_count": 18,
          "metadata": {},
          "output_type": "execute_result"
        }
      ],
      "source": [
        "evaluation"
      ]
    },
    {
      "cell_type": "code",
      "execution_count": 19,
      "metadata": {
        "colab": {
          "base_uri": "https://localhost:8080/"
        },
        "id": "ZlCtlHi0Vt54",
        "outputId": "bc21ef3e-80c2-4b38-9c29-79515bc23dec"
      },
      "outputs": [
        {
          "name": "stdout",
          "output_type": "stream",
          "text": [
            "Department Accuracy: 61.90%\n",
            "Attrition Accuracy: 81.29%\n"
          ]
        }
      ],
      "source": [
        "# Print the accuracy for both department and attrition\n",
        "print(f\"Department Accuracy: {evaluation['department_output_accuracy']* 100:.2f}%\")\n",
        "print(f\"Attrition Accuracy: {evaluation['attrition_output_accuracy'] * 100:.2f}%\")"
      ]
    },
    {
      "cell_type": "markdown",
      "metadata": {
        "id": "eGSyfsZfWOQM"
      },
      "source": [
        "# Summary\n",
        "\n",
        "In the provided space below, briefly answer the following questions.\n",
        "\n",
        "1. Is accuracy the best metric to use on this data? Why or why not?\n",
        "\n",
        "2. What activation functions did you choose for your output layers, and why?\n",
        "\n",
        "3. Can you name a few ways that this model might be improved?"
      ]
    },
    {
      "cell_type": "markdown",
      "metadata": {
        "id": "pi9SLpFnWvbF"
      },
      "source": [
        "YOUR ANSWERS HERE\n",
        "\n",
        "1. Accuracy maynot be the best metric for attrition prediction incase the data is imbalanced. \n",
        "2. \n",
        "* For department_output softmax activation was used because it is a multi-class classification task.\n",
        "* For attrition_output sigmoid activation was used for binary classification task.\n",
        "3. \n",
        "* Feature engineering - Create new features or transform existing ones to capture more information.\n",
        "* Class balancing - Address the class imbalance by using oversampling, undersampling, or SMOTE.\n",
        "* Different architectures: Experiment with different layer configurations.\n"
      ]
    },
    {
      "cell_type": "markdown",
      "metadata": {},
      "source": []
    }
  ],
  "metadata": {
    "colab": {
      "provenance": []
    },
    "kernelspec": {
      "display_name": "Python 3",
      "language": "python",
      "name": "python3"
    },
    "language_info": {
      "codemirror_mode": {
        "name": "ipython",
        "version": 3
      },
      "file_extension": ".py",
      "mimetype": "text/x-python",
      "name": "python",
      "nbconvert_exporter": "python",
      "pygments_lexer": "ipython3",
      "version": "3.10.14"
    },
    "vscode": {
      "interpreter": {
        "hash": "31f2aee4e71d21fbe5cf8b01ff0e069b9275f58929596ceb00d14d90e3e16cd6"
      }
    }
  },
  "nbformat": 4,
  "nbformat_minor": 0
}
